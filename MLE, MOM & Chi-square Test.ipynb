{
 "cells": [
  {
   "cell_type": "markdown",
   "metadata": {},
   "source": [
    "## ORIE 5580/5581: Homework 6"
   ]
  },
  {
   "cell_type": "markdown",
   "metadata": {},
   "source": [
    "### Bowen Gao (bg453), Soobin Lee (dyl44)"
   ]
  },
  {
   "cell_type": "markdown",
   "metadata": {},
   "source": [
    "### Problem 1"
   ]
  },
  {
   "cell_type": "markdown",
   "metadata": {},
   "source": [
    "Suppose that a random variable $X$ has the probability density function\n",
    "\n",
    "$$\n",
    "f(x) = \n",
    "\\begin{cases}\n",
    "a b^a x^{-(a + 1)} &\\text{} x \\geq b, \\\\\n",
    "0 &\\text{otherwise,}\n",
    "\\end{cases}\n",
    "$$\n",
    "\n",
    "where $a \\geq 1$, $b > 0$ are parameters we need to find. \n",
    "\n",
    "We observe the following values for $X$:\n",
    "\n",
    "$$2.1, 3.3, 3.1, 2.5, 3.8, 4.7, 6.0, 2.2$$"
   ]
  },
  {
   "cell_type": "markdown",
   "metadata": {},
   "source": [
    "#### (a)"
   ]
  },
  {
   "cell_type": "markdown",
   "metadata": {},
   "source": [
    "Since we are told that $b = 1$, the probability density function of $X$ is now $f(x) = ax^{-(a + 1)}$ for $x \\geq 1.$\n",
    "\n",
    "\\begin{align*}\n",
    "E(X) &= \\int_{1}^{\\infty} xax^{-(a + 1)} \\\\\n",
    "&= a \\int_{1}^{\\infty} x^{-a} \\: dx \\\\\n",
    "&= \\frac{a}{a - 1}.\n",
    "\\end{align*}\n",
    "\n",
    "Thus, the method of moments estimator of $a$ is \n",
    "\n",
    "$$\\frac{a}{a - 1} = \\frac{\\sum_{i = 1}^{8} X_i}{8} = 3.4625 \\Rightarrow \\widehat{a} \\approx 1.406.$$\n",
    "\n",
    "The likelihood and log-likelihood are as follows:\n",
    "\n",
    "\\begin{align*}\n",
    "L(a) &= a^8 \\bigg( \\prod_{i = 1}^{8} X_i \\bigg)^{-(a + 1)} \\\\\n",
    "\\ell (a) &= 8 \\ln a - (a + 1) \\sum_{i = 1}^{8} \\ln (X_i).\n",
    "\\end{align*}\n",
    "\n",
    "Thus,\n",
    "\n",
    "$$\\ell'(a) = \\frac{8}{a} - \\sum_{i = 1}^{8} \\ln (X_i) = 0 \\Rightarrow \\widehat{a} \\approx 0.847.$$\n",
    "\n",
    "However, since we are told that $a \\geq 1$, and $\\ell'(a) < 0$ for $a \\geq 1$, we find that the MLE of $a$ is $\\widehat{a} = 1$."
   ]
  },
  {
   "cell_type": "markdown",
   "metadata": {
    "collapsed": true
   },
   "source": [
    "#### (b)"
   ]
  },
  {
   "cell_type": "markdown",
   "metadata": {},
   "source": [
    "In this part, we have two unknowns $a$ and $b$.\n",
    "\n",
    "\\begin{align*}\n",
    "E(X) &= \\int_{b}^{\\infty} xab^a x^{-(a + 1)} \\: dx \\\\\n",
    "&= ab^a \\int_{b}^{\\infty} x^{-a} \\: dx \\\\\n",
    "&= \\frac{ab}{a - 1}, \\\\\n",
    "E(X^2) &= \\int_{b}^{\\infty} x^2ab^a x^{-(a + 1)} \\: dx \\\\\n",
    "&= ab^a \\int_{b}^{\\infty} x^{-a + 1} \\: dx \\\\\n",
    "&= \\frac{ab^2}{a - 2}.\n",
    "\\end{align*}\n",
    "\n",
    "Since $m_1 = 3.4625$ and $m_2 = 13.56625$,\n",
    "\n",
    "\\begin{align*}\n",
    "\\frac{ab}{a - 1} &= 3.4625 \\\\\n",
    "\\frac{ab^2}{a - 2} &= 13.56625.\n",
    "\\end{align*}\n",
    "\n",
    "We solve for $a$ and $b$ below and find that $\\widehat{a} = 3.933$ and $\\widehat{b} = 2.582$. However, we are told that $x \\geq b$, but $\\widehat{b} = 2.582 > 2.1$, which is the smallest value of $X$. The method of moments estimators of $a$ and $b$ are now 3.933 and 2.1, respectively."
   ]
  },
  {
   "cell_type": "code",
   "execution_count": 4,
   "metadata": {},
   "outputs": [
    {
     "data": {
      "text/plain": [
       "[(-1.93269388320372, 5.25404082811108), (3.93269388320372, 2.58206025492141)]"
      ]
     },
     "execution_count": 4,
     "metadata": {},
     "output_type": "execute_result"
    }
   ],
   "source": [
    "# Solve for a and b\n",
    "from sympy import *\n",
    "\n",
    "a, b = symbols('a b')\n",
    "solve([Eq((a * b) / (a - 1), 3.4625), Eq((a * b ** 2) / (a - 2), 13.56625)], [a, b])"
   ]
  },
  {
   "cell_type": "markdown",
   "metadata": {
    "collapsed": true
   },
   "source": [
    "The likelihood and log-likelihood are as follows:\n",
    "\n",
    "$$\n",
    "L(a, b) = \n",
    "\\begin{cases}\n",
    "a^{8} b^{8a} (\\prod_{i = 1}^{8} X_i)^{-(a + 1)} &\\text{for } b \\leq \\min X_i \\\\\n",
    "0 &\\text{otherwise. }\n",
    "\\end{cases}\n",
    "$$\n",
    "\n",
    "$$\n",
    "\\ell(a, b) = 8 \\ln a + 8a \\ln b - (a + 1) \\sum_{i = 1}^{8} \\ln (X_i).\n",
    "$$\n",
    "\n",
    "Therefore, the MLE of $b$ is $\\widehat{b} = 2.1$. Now that we have $\\widehat{b}$, we can easily find the MLE of $a$.\n",
    "\n",
    "\\begin{align*}\n",
    "\\ell'(a,\\widehat{b}) &= \\frac{8}{a} + 8 \\ln \\widehat{b} - \\sum_{i = 1}^{8} \\ln (X_i) = 0 \\\\\n",
    "\\widehat{a} &= \\frac{8}{\\sum_{i = 1}^{8} \\ln (X_i) - 8 \\ln \\widehat{b}} \\approx 2.279.\n",
    "\\end{align*}\n",
    "\n",
    "We find that the MLE of $a$ is $\\widehat{a} = 2.279.$"
   ]
  },
  {
   "cell_type": "markdown",
   "metadata": {},
   "source": [
    "### Problem 2"
   ]
  },
  {
   "cell_type": "markdown",
   "metadata": {},
   "source": [
    "#### (a)"
   ]
  },
  {
   "cell_type": "markdown",
   "metadata": {},
   "source": [
    "The probability mass function of $Y$ in terms of $p$ is \n",
    "\n",
    "$$\n",
    "P(Y = k) =\n",
    "\\begin{cases}\n",
    "(1 - p)^k p &\\text{ for } k \\in [0, 39], \\\\\n",
    "1 - \\sum_{k = 0}^{39} (1 - p)^k p &\\text{ for } k = 40, \\\\\n",
    "0 &\\text{ otherwise.}\n",
    "\\end{cases}\n",
    "$$"
   ]
  },
  {
   "cell_type": "markdown",
   "metadata": {},
   "source": [
    "#### (b)"
   ]
  },
  {
   "cell_type": "markdown",
   "metadata": {},
   "source": [
    "The likelihood and the log-likelihood function are as follows.\n",
    "\\begin{align*}\n",
    "L(p) &= 1 - \\sum_{k = 0}^{39} (1 - p)^k p + \\prod_{k \\neq 40} (1 - p)^k p \\\\\n",
    "\\ell(p) &= 34 \\ln \\bigg(1 - \\sum_{k = 0}^{39} (1 - p)^k p \\bigg) + \\ln(p^{66}) + \\bigg( \\sum_{k \\neq 40} k \\bigg) \\ln(1 - p) \\\\\n",
    "&= (34 \\cdot 40 + 1037) \\ln (1 - p) + 66 \\ln p\n",
    "\\end{align*}\n",
    "Thus, the MLE of $p$ is\n",
    "\n",
    "\\begin{align*}\n",
    "\\ell'(p) &= (34 \\cdot 40 + 1037) \\bigg( \\frac{1}{p - 1} \\bigg) + 66 \\bigg( \\frac{1}{p} \\bigg) = 0 \\\\\n",
    "\\widehat{p} &\\approx 0.0268.\n",
    "\\end{align*}\n",
    "\n",
    "Based on the sales data for oranges, the maximum likelihood estimator of $p$ is $\\widehat{p} \\approx 0.0268.$"
   ]
  },
  {
   "cell_type": "markdown",
   "metadata": {
    "collapsed": true
   },
   "source": [
    "### Problem 3"
   ]
  },
  {
   "cell_type": "markdown",
   "metadata": {},
   "source": [
    "#### (a)"
   ]
  },
  {
   "cell_type": "markdown",
   "metadata": {},
   "source": [
    "Both the empirical histogram and CDF of the subscription durations are shown below."
   ]
  },
  {
   "cell_type": "code",
   "execution_count": 1,
   "metadata": {
    "collapsed": true
   },
   "outputs": [],
   "source": [
    "import numpy as np\n",
    "import scipy.stats\n",
    "import matplotlib.pyplot as plt\n",
    "%matplotlib inline\n",
    "import pandas as pd"
   ]
  },
  {
   "cell_type": "code",
   "execution_count": 2,
   "metadata": {
    "collapsed": true
   },
   "outputs": [],
   "source": [
    "data = pd.read_csv('Newspaper_subscription.csv', parse_dates = [0,1])\n",
    "durations = (data['End Date'] - data['Start Date']).dt.days.values"
   ]
  },
  {
   "cell_type": "code",
   "execution_count": 3,
   "metadata": {},
   "outputs": [
    {
     "data": {
      "image/png": "[encoded data removed]",
      "text/plain": [
       "<matplotlib.figure.Figure at 0x9c27240>"
      ]
     },
     "metadata": {},
     "output_type": "display_data"
    }
   ],
   "source": [
    "# Empirical histogram of durations\n",
    "plt.hist(durations, normed = 1);"
   ]
  },
  {
   "cell_type": "code",
   "execution_count": 4,
   "metadata": {},
   "outputs": [
    {
     "data": {
      "image/png": "[encoded data removed]",
      "text/plain": [
       "<matplotlib.figure.Figure at 0xc4eae10>"
      ]
     },
     "metadata": {},
     "output_type": "display_data"
    }
   ],
   "source": [
    "# Empirical CDF of durations\n",
    "n = len(durations)\n",
    "x = (range(n) + 0.5 * np.ones(n))/n\n",
    "plt.plot(sorted(durations), x, color = 'orange');"
   ]
  },
  {
   "cell_type": "markdown",
   "metadata": {},
   "source": [
    "#### (b)"
   ]
  },
  {
   "cell_type": "markdown",
   "metadata": {},
   "source": [
    "We find the best fit for the ‘beta’, ‘rayleigh’, ‘gamma’, ‘expon’ and ‘norm’ distributions, and plot the fitted pdfs on the histogram below."
   ]
  },
  {
   "cell_type": "code",
   "execution_count": 5,
   "metadata": {},
   "outputs": [
    {
     "name": "stderr",
     "output_type": "stream",
     "text": [
      "D:\\anaconda\\lib\\site-packages\\scipy\\stats\\_continuous_distns.py:404: RuntimeWarning: invalid value encountered in sqrt\n",
      "  sk = 2*(b-a)*np.sqrt(a + b + 1) / (a + b + 2) / np.sqrt(a*b)\n",
      "D:\\anaconda\\lib\\site-packages\\scipy\\stats\\_continuous_distns.py:405: RuntimeWarning: invalid value encountered in double_scalars\n",
      "  ku = a**3 - a**2*(2*b-1) + b**2*(b+1) - 2*a*b*(b+2)\n"
     ]
    },
    {
     "name": "stdout",
     "output_type": "stream",
     "text": [
      "(1.2565412293402707, 10.543283979825379, -0.34527833328164054, 5162.671090439022)\n",
      "(-163.73726748847, 595.02594056848079)\n",
      "(-1.0400858665008172e-11, 549.27876551450117)\n",
      "(549.27866666666671, 446.90052995965698)\n",
      "(1.3938174605386378, -1.3125166196850135, 395.02387902915592)\n"
     ]
    },
    {
     "data": {
      "image/png": "[encoded data removed]",
      "text/plain": [
       "<matplotlib.figure.Figure at 0xc9dc978>"
      ]
     },
     "metadata": {},
     "output_type": "display_data"
    }
   ],
   "source": [
    "# Find best fit\n",
    "beta = scipy.stats.beta.fit(durations)\n",
    "print (beta)\n",
    "\n",
    "rayleigh = scipy.stats.rayleigh.fit(durations)\n",
    "print (rayleigh)\n",
    "\n",
    "expon = scipy.stats.expon.fit(durations)\n",
    "print (expon)\n",
    "\n",
    "norm = scipy.stats.norm.fit(durations)\n",
    "print (norm)\n",
    "\n",
    "gamma = scipy.stats.gamma.fit(durations)\n",
    "print (gamma)\n",
    "\n",
    "# Plot fitted pdfs on histogram\n",
    "x = np.linspace(min(durations), max(durations), 1000)\n",
    "plt.plot(x, scipy.stats.beta.pdf(x, beta[0], beta[1], beta[2], beta[3]), label = 'beta')\n",
    "plt.plot(x, scipy.stats.rayleigh.pdf(x, rayleigh[0], rayleigh[1]), label = 'rayleigh')\n",
    "plt.plot(x, scipy.stats.expon.pdf(x, expon[0], expon[1]), label = 'expon')\n",
    "plt.plot(x, scipy.stats.norm.pdf(x, norm[0], norm[1]), label = 'norm')\n",
    "plt.plot(x, scipy.stats.gamma.pdf(x, gamma[0], gamma[1], gamma[2]), label = 'gamma')\n",
    "plt.hist(durations, normed = 1, alpha = 0.5)\n",
    "plt.show();"
   ]
  },
  {
   "cell_type": "markdown",
   "metadata": {},
   "source": [
    "#### (c)"
   ]
  },
  {
   "cell_type": "markdown",
   "metadata": {},
   "source": [
    "According to the Q-Q plots and K-S test results below, both the beta distribution and gamma distribution best fit the data. For the beta distribution, $\\widehat{\\alpha} = 1.257$ and $\\widehat{\\beta} = 10.543$, and so\n",
    "\n",
    "$$f(x) = \\frac{\\Gamma(1.257 + 10.543) x^{1.257 - 1} (1 - x)^{10.543 - 1}}{\\Gamma(1.257) \\Gamma(10.543)}.$$\n",
    "\n",
    "For the gamma distribution, we have $\\widehat{a} = 1.393$. The location and scale parameters are -1.313 and 395.024, respectively. Therefore, the density function of the distribution is\n",
    "\n",
    "$$f(y, a) = \\bigg( \\frac{1}{395.024} \\bigg) \\frac{y^{1.394 - 1} \\exp(-y)}{\\gamma(a)},$$\n",
    "\n",
    "where \n",
    "\n",
    "$$y = \\frac{x - loc}{scale} = \\frac{x + 1.313}{395.024}.$$\n",
    "\n",
    "(SEE https://scipy.github.io/devdocs/generated/scipy.stats.gamma.html FOR PDF OF GAMMA)"
   ]
  },
  {
   "cell_type": "code",
   "execution_count": 6,
   "metadata": {},
   "outputs": [
    {
     "data": {
      "image/png": "[encoded data removed]",
      "text/plain": [
       "<matplotlib.figure.Figure at 0xc0eb5c0>"
      ]
     },
     "metadata": {},
     "output_type": "display_data"
    },
    {
     "name": "stdout",
     "output_type": "stream",
     "text": [
      "('K-S test statistic =', 0.022607284362233471)\n",
      "('p-value =', 0.4273206241237873)\n"
     ]
    }
   ],
   "source": [
    "# Beta\n",
    "X = (range(n) + 0.5*np.ones(n))/n\n",
    "plt.scatter(np.sort(durations), scipy.stats.beta.ppf(X, beta[0], beta[1], beta[2], beta[3]), s = 1)\n",
    "plt.title(\"beta\")\n",
    "plt.plot(range(max(durations) + 1), ':r')\n",
    "plt.show()\n",
    "test_stat, pvalue = scipy.stats.kstest(durations, 'beta', args = beta)\n",
    "print (\"K-S test statistic =\", test_stat)\n",
    "print (\"p-value =\", pvalue)"
   ]
  },
  {
   "cell_type": "code",
   "execution_count": 7,
   "metadata": {},
   "outputs": [
    {
     "data": {
      "image/png": "[encoded data removed]",
      "text/plain": [
       "<matplotlib.figure.Figure at 0xc4cca90>"
      ]
     },
     "metadata": {},
     "output_type": "display_data"
    },
    {
     "name": "stdout",
     "output_type": "stream",
     "text": [
      "('K-S test statistic =', 0.12166056874123271)\n",
      "('p-value =', 0.0)\n"
     ]
    }
   ],
   "source": [
    "# Rayleigh\n",
    "plt.scatter(np.sort(durations), scipy.stats.rayleigh.ppf(X, rayleigh[0], rayleigh[1]), s = 1)\n",
    "plt.title(\"rayleigh\")\n",
    "plt.plot(range(max(durations) + 1), ':r')\n",
    "plt.show()\n",
    "test_stat, pvalue = scipy.stats.kstest(durations, 'rayleigh', args = rayleigh)\n",
    "print (\"K-S test statistic =\", test_stat)\n",
    "print (\"p-value =\", pvalue)"
   ]
  },
  {
   "cell_type": "code",
   "execution_count": 8,
   "metadata": {},
   "outputs": [
    {
     "data": {
      "image/png": "[encoded data removed]",
      "text/plain": [
       "<matplotlib.figure.Figure at 0xcce2278>"
      ]
     },
     "metadata": {},
     "output_type": "display_data"
    },
    {
     "name": "stdout",
     "output_type": "stream",
     "text": [
      "('K-S test statistic =', 0.080921369265401027)\n",
      "('p-value =', 5.429175775617523e-09)\n"
     ]
    }
   ],
   "source": [
    "# Exponential\n",
    "plt.scatter(np.sort(durations), scipy.stats.expon.ppf(X, expon[0], expon[1]), s = 1)\n",
    "plt.title(\"expon\")\n",
    "plt.plot(range(max(durations) + 1), ':r')\n",
    "plt.show()\n",
    "test_stat, pvalue = scipy.stats.kstest(durations, 'expon', args = expon)\n",
    "print (\"K-S test statistic =\", test_stat)\n",
    "print (\"p-value =\", pvalue)"
   ]
  },
  {
   "cell_type": "code",
   "execution_count": 9,
   "metadata": {},
   "outputs": [
    {
     "data": {
      "image/png": "[encoded data removed]",
      "text/plain": [
       "<matplotlib.figure.Figure at 0xcb62240>"
      ]
     },
     "metadata": {},
     "output_type": "display_data"
    },
    {
     "name": "stdout",
     "output_type": "stream",
     "text": [
      "('K-S test statistic =', 0.12449936476125062)\n",
      "('p-value =', 0.0)\n"
     ]
    }
   ],
   "source": [
    "# Normal\n",
    "plt.scatter(np.sort(durations), scipy.stats.norm.ppf(X, norm[0], norm[1]), s = 1)\n",
    "plt.title(\"norm\")\n",
    "plt.plot(range(max(durations) + 1), ':r')\n",
    "plt.show()\n",
    "test_stat, pvalue = scipy.stats.kstest(durations, 'norm', args = norm)\n",
    "print (\"K-S test statistic =\", test_stat)\n",
    "print (\"p-value =\", pvalue)"
   ]
  },
  {
   "cell_type": "code",
   "execution_count": 10,
   "metadata": {},
   "outputs": [
    {
     "data": {
      "image/png": "[encoded data removed]",
      "text/plain": [
       "<matplotlib.figure.Figure at 0x8cffd68>"
      ]
     },
     "metadata": {},
     "output_type": "display_data"
    },
    {
     "name": "stdout",
     "output_type": "stream",
     "text": [
      "('K-S test statistic =', 0.017011435621638427)\n",
      "('p-value =', 0.77817887009529585)\n"
     ]
    }
   ],
   "source": [
    "# Gamma\n",
    "plt.scatter(np.sort(durations), scipy.stats.gamma.ppf(X, gamma[0], gamma[1], gamma[2]), s = 1)\n",
    "plt.title(\"gamma\")\n",
    "plt.plot(range(max(durations) + 1), ':r')\n",
    "plt.show()\n",
    "test_stat, pvalue = scipy.stats.kstest(durations, 'gamma', args = gamma)\n",
    "print (\"K-S test statistic =\", test_stat)\n",
    "print (\"p-value =\", pvalue)"
   ]
  },
  {
   "cell_type": "markdown",
   "metadata": {},
   "source": [
    "#### (d)"
   ]
  },
  {
   "cell_type": "markdown",
   "metadata": {},
   "source": [
    "Using bootstrapping, we estimate a $95\\%$ CI for each of the parameters for the two distributions below."
   ]
  },
  {
   "cell_type": "code",
   "execution_count": 96,
   "metadata": {
    "collapsed": true
   },
   "outputs": [],
   "source": [
    "# Bootstrapping for parameters for beta distribution\n",
    "m = 500\n",
    "n = len(durations)\n",
    "\n",
    "bst_alpha = np.zeros(m)\n",
    "bst_beta = np.zeros(m)\n",
    "bst_loc = np.zeros(m)\n",
    "bst_scale = np.zeros(m)\n",
    "\n",
    "for i in range(m):\n",
    "    X_b = (np.random.beta(beta[0], beta[1], size = n))*beta[3]+beta[2]\n",
    "    bst_b = scipy.stats.beta.fit(X_b)\n",
    "    bst_alpha[i] = bst_b[0]\n",
    "    bst_beta[i] = bst_b[1]\n",
    "    bst_loc[i] = bst_b[2]\n",
    "    bst_scale[i] = bst_b[3]\n",
    "    "
   ]
  },
  {
   "cell_type": "code",
   "execution_count": 97,
   "metadata": {},
   "outputs": [
    {
     "name": "stdout",
     "output_type": "stream",
     "text": [
      "('The 95% CI for the bootstrap estimate of alpha is: (', 1.1414530307488389, ',', 1.3531390703653041, ')')\n"
     ]
    }
   ],
   "source": [
    "bst_alpha = sorted(bst_alpha)\n",
    "LB_bst_alpha = bst_alpha[int(0.025*m)]\n",
    "UB_bst_alpha = bst_alpha[int(0.975*m)]\n",
    "\n",
    "print (\"The 95% CI for the bootstrap estimate of alpha is: (\", LB_bst_alpha, \",\", UB_bst_alpha, \")\")"
   ]
  },
  {
   "cell_type": "code",
   "execution_count": 98,
   "metadata": {},
   "outputs": [
    {
     "name": "stdout",
     "output_type": "stream",
     "text": [
      "('The 95% CI for the bootstrap estimate of beta is: (', 6.2372548832839154, ',', 25.246856555815427, ')')\n"
     ]
    }
   ],
   "source": [
    "bst_beta = sorted(bst_beta)\n",
    "LB_bst_beta = bst_beta[int(0.025*m)]\n",
    "UB_bst_beta = bst_beta[int(0.975*m)]\n",
    "\n",
    "print (\"The 95% CI for the bootstrap estimate of beta is: (\", LB_bst_beta, \",\", UB_bst_beta, \")\")"
   ]
  },
  {
   "cell_type": "code",
   "execution_count": 99,
   "metadata": {},
   "outputs": [
    {
     "name": "stdout",
     "output_type": "stream",
     "text": [
      "('The 95% CI for the bootstrap estimate of loc is: (', -0.85079631697963543, ',', 3.6356930785086901, ')')\n"
     ]
    }
   ],
   "source": [
    "bst_loc = sorted(bst_loc)\n",
    "LB_bst_loc = bst_loc[int(0.025*m)]\n",
    "UB_bst_loc = bst_loc[int(0.975*m)]\n",
    "\n",
    "print (\"The 95% CI for the bootstrap estimate of loc is: (\", LB_bst_loc, \",\", UB_bst_loc, \")\")"
   ]
  },
  {
   "cell_type": "code",
   "execution_count": 100,
   "metadata": {},
   "outputs": [
    {
     "name": "stdout",
     "output_type": "stream",
     "text": [
      "('The 95% CI for the bootstrap estimate of scale is: (', 3481.3919222352074, ',', 10990.03344305254, ')')\n"
     ]
    }
   ],
   "source": [
    "bst_scale = sorted(bst_scale)\n",
    "LB_bst_scale = bst_scale[int(0.025*m)]\n",
    "UB_bst_scale = bst_scale[int(0.975*m)]\n",
    "\n",
    "print (\"The 95% CI for the bootstrap estimate of scale is: (\", LB_bst_scale, \",\", UB_bst_scale, \")\")"
   ]
  },
  {
   "cell_type": "code",
   "execution_count": 103,
   "metadata": {
    "collapsed": true
   },
   "outputs": [],
   "source": [
    "# Bootstrapping parameter for gamma \n",
    "m = 500\n",
    "n = len(durations)\n",
    "\n",
    "bst_k = np.zeros(m)\n",
    "bst_loc2 = np.zeros(m)\n",
    "bst_theta = np.zeros(m)\n",
    "\n",
    "for i in range(m):\n",
    "    X_a = (np.random.gamma(shape = gamma[0], scale = gamma[2],  size = n)) + gamma[1]\n",
    "    bst_a = scipy.stats.gamma.fit(X_a, scale = gamma[2])\n",
    "    bst_k[i] = bst_a[0]\n",
    "    bst_loc2[i] = bst_a[1]\n",
    "    bst_theta[i] = bst_a[2]"
   ]
  },
  {
   "cell_type": "code",
   "execution_count": 104,
   "metadata": {},
   "outputs": [
    {
     "name": "stdout",
     "output_type": "stream",
     "text": [
      "('The 95% CI for the bootstrap estimate of the shape is: (', 1.2842030613241724, ',', 1.477496355440135, ')')\n",
      "('The 95% CI for the bootstrap estimate of the scale is: (', 368.05552059714915, ',', 433.17946669404859, ')')\n",
      "('The 95% CI for the bootstrap estimate of the loc is: (', -2.4103553848011554, ',', 3.9919695251022178, ')')\n"
     ]
    }
   ],
   "source": [
    "bst_k = sorted(bst_k)\n",
    "bst_theta = sorted(bst_theta)\n",
    "bst_loc2 = sorted(bst_loc2)\n",
    "LB_bst_k = bst_k[int(0.025*m)]\n",
    "UB_bst_k = bst_k[int(0.975*m)]\n",
    "LB_bst_theta = bst_theta[int(0.025*m)]\n",
    "UB_bst_theta = bst_theta[int(0.975*m)]\n",
    "LB_bst_loc2 = bst_loc2[int(0.025*m)]\n",
    "UB_bst_loc2 = bst_loc2[int(0.975*m)]\n",
    "\n",
    "\n",
    "print (\"The 95% CI for the bootstrap estimate of the shape is: (\", LB_bst_k, \",\", UB_bst_k, \")\")\n",
    "print (\"The 95% CI for the bootstrap estimate of the scale is: (\", LB_bst_theta, \",\", UB_bst_theta, \")\")\n",
    "print (\"The 95% CI for the bootstrap estimate of the loc is: (\", LB_bst_loc2, \",\", UB_bst_loc2, \")\")\n",
    "#print bst_theta[100:200]"
   ]
  },
  {
   "cell_type": "markdown",
   "metadata": {},
   "source": [
    "#### (e)"
   ]
  },
  {
   "cell_type": "code",
   "execution_count": 105,
   "metadata": {},
   "outputs": [
    {
     "name": "stdout",
     "output_type": "stream",
     "text": [
      "Mean beta 149.740333737\n",
      "Mean gamma 470.247670903\n"
     ]
    }
   ],
   "source": [
    "print 'Mean beta', (LB_bst_alpha/(LB_bst_alpha + UB_bst_beta))*LB_bst_scale + LB_bst_loc\n",
    "print 'Mean gamma', LB_bst_k*LB_bst_theta +LB_bst_loc2"
   ]
  },
  {
   "cell_type": "markdown",
   "metadata": {},
   "source": [
    "The mean of beta distribution is $\\frac{\\alpha}{\\alpha + \\beta} = \\frac{1}{1+\\frac{\\beta}{\\alpha}}$. To minimize the mean, we should select the smallest $\\alpha$ and the largest $\\beta$ in our CI. \n",
    "\n",
    "We find that $\\alpha = 1.13$ and $\\beta = 22.14$. Also, since the above formula is the standardized mean, we need to choose the smallest loc and scale to get the actual mean. So loc here we choose is $-0.88$ and scale $3461.67$. \n",
    "\n",
    "The mean of gamma distribution is shape times scale. To minimize the mean, we choose the smallest shape and the smallest scale in our CI, which are $1.28$ and $364.18$ here. Also we choose the "
   ]
  },
  {
   "cell_type": "markdown",
   "metadata": {},
   "source": [
    "### Problem 4"
   ]
  },
  {
   "cell_type": "markdown",
   "metadata": {
    "collapsed": true
   },
   "source": [
    "#### (a)"
   ]
  },
  {
   "cell_type": "markdown",
   "metadata": {},
   "source": [
    "We generate a dataset comprising the first digits of $n!$ for the first 1000 integers. Their empirical histogram is shown below."
   ]
  },
  {
   "cell_type": "code",
   "execution_count": 106,
   "metadata": {},
   "outputs": [
    {
     "data": {
      "image/png": "[encoded data removed]",
      "text/plain": [
       "<matplotlib.figure.Figure at 0xcd73a20>"
      ]
     },
     "metadata": {},
     "output_type": "display_data"
    }
   ],
   "source": [
    "import scipy.misc\n",
    "\n",
    "n = 1000\n",
    "\n",
    "fact_series = scipy.misc.factorial(np.arange(n), exact = True)\n",
    "first_digit = np.zeros(n)\n",
    "for i in range(n):\n",
    "    first_digit[i] = int(str(fact_series[i])[0])\n",
    "    \n",
    "plt.hist(first_digit, normed = 1, bins = 9)\n",
    "plt.show()"
   ]
  },
  {
   "cell_type": "markdown",
   "metadata": {},
   "source": [
    "#### (b)"
   ]
  },
  {
   "cell_type": "markdown",
   "metadata": {},
   "source": [
    "Since the p-value is less than 0.05, we reject the null hypothesis and conclude that the data are not drawn from the assumed distribution."
   ]
  },
  {
   "cell_type": "code",
   "execution_count": 107,
   "metadata": {},
   "outputs": [
    {
     "name": "stdout",
     "output_type": "stream",
     "text": [
      "('Chi-square test statistic under uniform distribution:', 464.57000000000005)\n",
      "('p-value:', 3.5863930600192735e-97)\n"
     ]
    }
   ],
   "source": [
    "obs_freq, bins = np.histogram(first_digit, bins = range(1, 11))\n",
    "exp_freq = (len(first_digit) + 0.) / 9\n",
    "test_stat, p_value = scipy.stats.chisquare(f_obs = obs_freq, f_exp = exp_freq, ddof = 2)\n",
    "print (\"Chi-square test statistic under uniform distribution:\", test_stat)\n",
    "print (\"p-value:\", p_value)"
   ]
  },
  {
   "cell_type": "markdown",
   "metadata": {},
   "source": [
    "#### (c)"
   ]
  },
  {
   "cell_type": "markdown",
   "metadata": {},
   "source": [
    "Since the p-value is greater than 0.05, we do not reject the null hypothesis. Therefore, we can conclude that the data are governed by the assumed distribution."
   ]
  },
  {
   "cell_type": "code",
   "execution_count": 108,
   "metadata": {},
   "outputs": [
    {
     "name": "stdout",
     "output_type": "stream",
     "text": [
      "(\"Chi-square test statistic under 'Benford's Law' distribution:\", 8.5369323775096522)\n",
      "('p-value:', 0.28763259377227635)\n"
     ]
    }
   ],
   "source": [
    "exp_freq = np.zeros(9)\n",
    "n = len(first_digit)\n",
    "\n",
    "for i in range(9):\n",
    "    d = i + 1\n",
    "    exp_freq[i] = n * (np.log10(d + 1) - np.log10(d)) \n",
    "    \n",
    "test_stat, p_value = scipy.stats.chisquare(f_obs = obs_freq, f_exp = exp_freq, ddof = 1)\n",
    "print (\"Chi-square test statistic under 'Benford's Law' distribution:\", test_stat)\n",
    "print (\"p-value:\", p_value)"
   ]
  },
  {
   "cell_type": "code",
   "execution_count": null,
   "metadata": {
    "collapsed": true
   },
   "outputs": [],
   "source": []
  }
 ],
 "metadata": {
  "kernelspec": {
   "display_name": "Python 3",
   "language": "python",
   "name": "python3"
  },
  "language_info": {
   "codemirror_mode": {
    "name": "ipython",
    "version": 3
   },
   "file_extension": ".py",
   "mimetype": "text/x-python",
   "name": "python",
   "nbconvert_exporter": "python",
   "pygments_lexer": "ipython3",
   "version": "3.6.1"
  }
 },
 "nbformat": 4,
 "nbformat_minor": 2
}
