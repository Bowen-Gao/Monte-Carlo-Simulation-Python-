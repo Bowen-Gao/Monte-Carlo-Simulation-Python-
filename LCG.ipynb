{
 "cells": [
  {
   "cell_type": "markdown",
   "metadata": {},
   "source": [
    "## ORIE 5580/5581: Homework 3\n",
    "\n",
    "### Bowen Gao (bg453), Soobin Lee (dyl44)"
   ]
  },
  {
   "cell_type": "markdown",
   "metadata": {},
   "source": [
    "### Problem 1"
   ]
  },
  {
   "cell_type": "code",
   "execution_count": 2,
   "metadata": {
    "collapsed": true
   },
   "outputs": [],
   "source": [
    "import numpy as np\n",
    "import scipy.stats\n",
    "import matplotlib.pyplot as plt\n",
    "cmap = plt.get_cmap('Set3')"
   ]
  },
  {
   "cell_type": "code",
   "execution_count": 3,
   "metadata": {},
   "outputs": [
    {
     "name": "stdout",
     "output_type": "stream",
     "text": [
      "[ 0.6    0.7    0.64   0.637]\n"
     ]
    }
   ],
   "source": [
    "# the estimate of alpha \n",
    "a = 17\n",
    "c = 13\n",
    "m = 23\n",
    "\n",
    "n = [10, 20, 200, 2000]\n",
    "X = np.empty(n[3])\n",
    "U = np.empty(n[3])\n",
    "P = np.empty(np.size(n))\n",
    "\n",
    "for i in range(np.size(n)):\n",
    "    X[0] = 2\n",
    "    for j in range(1, n[i]):\n",
    "        X[j] = np.mod(a * X[j - 1] + c, m) \n",
    "    U = np.divide((X + 1.0), m + 1.0)\n",
    "    P[i] = np.mean(U[0:n[i]] <= 0.6)\n",
    "\n",
    "print(P)"
   ]
  },
  {
   "cell_type": "code",
   "execution_count": 5,
   "metadata": {},
   "outputs": [
    {
     "name": "stdout",
     "output_type": "stream",
     "text": [
      "The limit of the estimate is 0.636363636364\n"
     ]
    }
   ],
   "source": [
    "# the limit of the estimate as n goes to infinity\n",
    "print(\"The limit of the estimate is\", np.sum(U[0:22] <= 0.6) / 22.0)"
   ]
  },
  {
   "cell_type": "markdown",
   "metadata": {},
   "source": [
    "The estimate of $\\alpha$ for 10, 20, 200, and 2000 pseudo-random numbers is 0.6, 0.7, 0.64, and 0.637, respectively. Since the length of the period is 22 and there are only 14 numbers that are less than or equal our threshold of 0.6, the limit of the estimate obtained from the first $n$ pseudo-random numbers produced as $n \\rightarrow \\infty$ is approximately 0.636."
   ]
  },
  {
   "cell_type": "markdown",
   "metadata": {},
   "source": [
    "### Problem 2"
   ]
  },
  {
   "cell_type": "markdown",
   "metadata": {},
   "source": [
    "#### (a)"
   ]
  },
  {
   "cell_type": "markdown",
   "metadata": {},
   "source": [
    "The plot of the sequences $x_n$ and $y_n$ is as follows."
   ]
  },
  {
   "cell_type": "code",
   "execution_count": 8,
   "metadata": {
    "collapsed": true
   },
   "outputs": [],
   "source": [
    "# **Code provided by Professor Sid Banerjee**\n",
    "# Function to generate pseudorandom sequence using LCG\n",
    "# Setting default parameters to glibc specifications (without truncation)\n",
    "\n",
    "def LCG(n, m = 2 ** 31 - 1, a = 1103515245, c = 12345, x_0 = 1):\n",
    "    output = np.zeros(n)\n",
    "\n",
    "    x = x_0\n",
    "    for i in range(n):\n",
    "        output[i] = (x + 1.0) / (m + 1.0)\n",
    "        x = (a * x + c) % m\n",
    "\n",
    "    return output\n",
    "\n",
    "# Functions to visualize LCG sequence on clock\n",
    "def plot_clock_face(m, fig, annotate = False):\n",
    "    # Plot the m points on the unit circle\n",
    "    for i in range(m):\n",
    "        theta = 2.0 * np.pi * i / m\n",
    "        plt.plot(np.sin(theta), np.cos(theta),'rs')\n",
    "        if annotate:\n",
    "            plt.annotate(str(i), (np.pi / 2 - theta, 1.05), xycoords = 'polar')\n",
    "\n",
    "def plot_clock_path(m, x, fig,color = 'b'):\n",
    "    # Plot the seed node\n",
    "    theta_0 = 2.0 * np.pi * (x[0] * (m + 1) - 1) / m\n",
    "    plt.plot(np.sin(theta_0), np.cos(theta_0),'gs')\n",
    "    \n",
    "    # Plot the path of the LCG sequence\n",
    "    for i in range(len(x) - 1):\n",
    "        theta_start = 2.0 * np.pi * (x[i] * (m + 1) - 1) / m\n",
    "        theta_end = 2.0 * np.pi * (x[i + 1] * (m + 1) - 1) / m\n",
    "        x_start = np.sin(theta_start)\n",
    "        y_start = np.cos(theta_start)\n",
    "        del_x = np.sin(theta_end) - np.sin(theta_start)\n",
    "        del_y = np.cos(theta_end) - np.cos(theta_start)\n",
    "        if abs(del_x) > 0 or abs(del_y) > 0:\n",
    "            plt.arrow(x_start, y_start, del_x, del_y, \n",
    "                      length_includes_head = True, head_width = 0.05, \n",
    "                      head_length = 0.1, fc = color, ec = color)    "
   ]
  },
  {
   "cell_type": "code",
   "execution_count": 9,
   "metadata": {},
   "outputs": [
    {
     "data": {
      "text/plain": [
       "<matplotlib.figure.Figure at 0x10a393d68>"
      ]
     },
     "metadata": {},
     "output_type": "display_data"
    },
    {
     "data": {
      "image/png": "[encoded data removed]",
      "text/plain": [
       "<matplotlib.figure.Figure at 0x10a391c50>"
      ]
     },
     "metadata": {},
     "output_type": "display_data"
    }
   ],
   "source": [
    "# Plot of sequence x_n\n",
    "m_x = 16\n",
    "a_x = 5\n",
    "c_x = 0\n",
    "x_0 = 1\n",
    "\n",
    "fig = plt.figure()\n",
    "x = LCG(n = m_x + 1, m = m_x, a = a_x, c = c_x, x_0 = x_0)\n",
    "\n",
    "plot_clock_face(m_x, fig, annotate = True)\n",
    "plot_clock_path(m_x, x, fig)\n",
    "plt.axis('equal')\n",
    "plt.axis('off')\n",
    "plt.show()"
   ]
  },
  {
   "cell_type": "code",
   "execution_count": 10,
   "metadata": {},
   "outputs": [
    {
     "data": {
      "image/png": "[encoded data removed]",
      "text/plain": [
       "<matplotlib.figure.Figure at 0x10a5788d0>"
      ]
     },
     "metadata": {},
     "output_type": "display_data"
    }
   ],
   "source": [
    "# Plot of sequence y_n\n",
    "m_y = 7\n",
    "a_y = 2\n",
    "c_y = 0\n",
    "y_0 = 1\n",
    "\n",
    "fig = plt.figure()\n",
    "y = LCG(n = m_y + 1, m = m_y, a = a_y, c = c_y, x_0 = y_0)\n",
    "\n",
    "plot_clock_face(m_y, fig, annotate = True)\n",
    "plot_clock_path(m_y, y, fig)\n",
    "plt.axis('equal')\n",
    "plt.axis('off')\n",
    "plt.show()"
   ]
  },
  {
   "cell_type": "markdown",
   "metadata": {},
   "source": [
    "#### (b)"
   ]
  },
  {
   "cell_type": "markdown",
   "metadata": {
    "collapsed": true
   },
   "source": [
    "Next, we define a combined LCG as $z_n = (x_n + y_n) \\bmod 16$ and plot the sequence $z_n$ using the clock visualization."
   ]
  },
  {
   "cell_type": "code",
   "execution_count": 11,
   "metadata": {
    "collapsed": true
   },
   "outputs": [],
   "source": [
    "def LCG_z(n, m_x = 2 ** 31 - 1, m_y = 2 ** 31 - 1, a_x = 1103515245, a_y =1103515245, c_x = 12345, c_y = 12345, x_0 = 1, y_0 = 1):\n",
    "    output_z = np.zeros(n)\n",
    "\n",
    "    x = x_0\n",
    "    y = y_0\n",
    "    for i in range(n):\n",
    "        z = (x + y) % m_x\n",
    "        output_z[i] = (z + 1.0) / (m_x + 1.0)\n",
    "        x = (a_x * x + c_x) % m_x\n",
    "        y = (a_y * y + c_y) % m_y\n",
    "        \n",
    "    return output_z"
   ]
  },
  {
   "cell_type": "code",
   "execution_count": 12,
   "metadata": {},
   "outputs": [
    {
     "data": {
      "image/png": "[encoded data removed]",
      "text/plain": [
       "<matplotlib.figure.Figure at 0x10a93d208>"
      ]
     },
     "metadata": {},
     "output_type": "display_data"
    }
   ],
   "source": [
    "m_x = 16\n",
    "a_x = 5\n",
    "c_x = 0\n",
    "x_0 = 1\n",
    "\n",
    "m_y = 7\n",
    "a_y = 2\n",
    "c_y = 0\n",
    "y_0 = 1\n",
    "\n",
    "fig = plt.figure()\n",
    "z = LCG_z(n = m_x * m_y + 1, m_x = m_x, m_y = m_y, a_x = a_x, a_y = a_y, c_x = c_x, c_y = c_y, x_0 = x_0, y_0 = y_0)\n",
    "\n",
    "plot_clock_face(m_x, fig, annotate = True)\n",
    "plot_clock_path(m_x, z, fig)\n",
    "plt.axis('equal')\n",
    "plt.axis('off')\n",
    "plt.show();"
   ]
  },
  {
   "cell_type": "markdown",
   "metadata": {
    "collapsed": true
   },
   "source": [
    "#### (c)"
   ]
  },
  {
   "cell_type": "markdown",
   "metadata": {},
   "source": [
    "The periods of the pseudorandom sequences $x_n$, $y_n$, and $z_n$ are 4, 3, and 12, respectively. Clearly, the resulting period of $z_n$ is on the order of $(4 \\cdot 3)$ = 12."
   ]
  },
  {
   "cell_type": "markdown",
   "metadata": {},
   "source": [
    "### Problem 3"
   ]
  },
  {
   "cell_type": "markdown",
   "metadata": {},
   "source": [
    "#### (a)"
   ]
  },
  {
   "cell_type": "markdown",
   "metadata": {},
   "source": [
    "The following is a method to compute $x_n$ quickly when $n = 2^{138}.$ We are trying to calculate $x_n = [(a^n \\bmod m) \\cdot x_0] \\bmod m$. Using the hint provided, we can see that\n",
    "\n",
    "\\begin{align*}\n",
    "a^{2^{138}} \\bmod m &= (a^{2^{137}} \\bmod m)^2 \\bmod m \\\\\n",
    "a^{2^{137}} \\bmod m &= (a^{2^{136}} \\bmod m)^2 \\bmod m \\\\\n",
    "&\\: \\: \\vdots \\\\\n",
    "a^{2^{2}} \\bmod m &= (a^{2^{1}} \\bmod m)^2 \\bmod m \\\\\n",
    "a^{2^{1}} \\bmod m &= (a^{2^{0}} \\bmod m)^2 \\bmod m. \n",
    "\\end{align*}\n",
    "\n",
    "Therefore, when $n = 2^{138}$ and we multiply $a^n \\bmod m$ by $x_0 = 3$, we find that $x_n = 1,946,723,422.$"
   ]
  },
  {
   "cell_type": "code",
   "execution_count": 9,
   "metadata": {},
   "outputs": [
    {
     "name": "stdout",
     "output_type": "stream",
     "text": [
      "1946723422\n"
     ]
    }
   ],
   "source": [
    "a = 7 ** 5\n",
    "m = 2 ** 31 - 1\n",
    "x_0 = 3\n",
    "\n",
    "x = np.mod(a, m)\n",
    "\n",
    "for  i in range(1, 139):\n",
    "    x = np.mod(x ** 2, m)\n",
    "    \n",
    "x_n = np.mod(x * x_0, m)\n",
    "\n",
    "print(x_n)"
   ]
  },
  {
   "cell_type": "markdown",
   "metadata": {},
   "source": [
    "### Problem 4"
   ]
  },
  {
   "cell_type": "markdown",
   "metadata": {},
   "source": [
    "The p.d.f of the random variable $X$ is given by\n",
    "$$\n",
    "f(x) = \n",
    "\\begin{cases}\n",
    "ce^x &\\text{for } 0 \\leq x \\leq 1, \\\\\n",
    "ce^{2 - x} &\\text{for } x > 1, \\\\\n",
    "0 &\\text{otherwise.}\n",
    "\\end{cases}\n",
    "$$"
   ]
  },
  {
   "cell_type": "markdown",
   "metadata": {},
   "source": [
    "#### (a)"
   ]
  },
  {
   "cell_type": "markdown",
   "metadata": {},
   "source": [
    "First, we solve for the value of constant $c$."
   ]
  },
  {
   "cell_type": "markdown",
   "metadata": {},
   "source": [
    "\\begin{align*}\n",
    "\\int_{0}^{1} ce^x \\: dx + \\int_{1}^{\\infty} ce^{2 - x} \\: dx &= 1 \\\\\n",
    "\\Rightarrow c(e - 1) + \\lim_{t \\rightarrow \\infty} \\int_{1}^{t} ce^{2 - x} \\: dx &= 1 \\\\\n",
    "\\Rightarrow c(e - 1) + ce &= 1 \\\\\n",
    "\\Rightarrow c &= \\frac{1}{2e - 1}.\n",
    "\\end{align*}"
   ]
  },
  {
   "cell_type": "markdown",
   "metadata": {},
   "source": [
    "#### (b)"
   ]
  },
  {
   "cell_type": "markdown",
   "metadata": {
    "collapsed": true
   },
   "source": [
    "For $x \\in [0, 1]$,\n",
    "$$F(x) = \\int_{0}^{x} \\frac{e^z}{2e - 1} \\: dz = \\frac{e^x - 1}{2e - 1}.$$\n",
    "\n",
    "For $x > 1$,\n",
    "\\begin{align*}\n",
    "F(x) &= \\frac{e - 1}{2e - 1} + \\int_{1}^{x} \\frac{e^{2 - z}}{2e - 1} \\: dz \\\\\n",
    "&= \\frac{e - 1}{2e - 1} - \\frac{e^{2 - x} - e}{2e - 1} \\\\\n",
    "&= 1 - \\frac{e^{2 - x}}{2e - 1}.\n",
    "\\end{align*}\n",
    "\n",
    "Then, taking the inverse, we find that \n",
    "\n",
    "$$\n",
    "F^{-1}(u) = \n",
    "\\begin{cases}\n",
    "\\ln (u(2e - 1) + 1) &\\text{for } u \\in [0, \\frac{e - 1}{2e - 1}) \\\\\n",
    "2 - \\ln ((2e - 1)(1 - u)) &\\text{for } u \\in [\\frac{e - 1}{2e - 1}, 1).\n",
    "\\end{cases}\n",
    "$$"
   ]
  },
  {
   "cell_type": "markdown",
   "metadata": {},
   "source": [
    "Therefore, the inversion method is\n",
    "\n",
    "1. Generate $U \\sim U[0, 1]$.\n",
    "\n",
    "2. For $u \\in [0, \\frac{e - 1}{2e - 1})$, return $X = \\ln (u(2e - 1) + 1).$ <br>\n",
    "   For $u \\in [\\frac{e - 1}{2e - 1}, 1)$, return $X = 2 - \\ln ((2e - 1)(1 - u)).$"
   ]
  },
  {
   "cell_type": "markdown",
   "metadata": {},
   "source": [
    "#### (c)"
   ]
  },
  {
   "cell_type": "markdown",
   "metadata": {},
   "source": [
    "Now, we generate 1,500 samples of $X$ and plot a histogram of them below. We can see that the histogram and the p.d.f follow the same distribution."
   ]
  },
  {
   "cell_type": "code",
   "execution_count": 36,
   "metadata": {},
   "outputs": [
    {
     "data": {
      "image/png": "[encoded data removed]",
      "text/plain": [
       "<matplotlib.figure.Figure at 0x9a8acc0>"
      ]
     },
     "metadata": {},
     "output_type": "display_data"
    }
   ],
   "source": [
    "import numpy as np\n",
    "import scipy.stats\n",
    "import matplotlib.pyplot as plt\n",
    "\n",
    "n = 1500\n",
    "\n",
    "X = np.empty(n)\n",
    "\n",
    "for i in range(n):\n",
    "    U = np.random.rand()\n",
    "    if U < ((np.exp(1) - 1) / (2 * np.exp(1) - 1)):\n",
    "        X[i] = np.log(U * (2 * np.exp(1) - 1) + 1)\n",
    "    else:\n",
    "        X[i] = 2 - np.log((2 * np.exp(1) - 1) * (1 - U))\n",
    "        \n",
    "plt.hist(X, bins = 30, normed = 1);  \n",
    "\n",
    "x_vals = np.linspace(0, 8, 1000)\n",
    "f_x = np.empty(1000)\n",
    "\n",
    "for i in range(1000):\n",
    "    if x_vals[i] <= 1:\n",
    "        f_x[i] = np.exp(x_vals[i]) / (2 * np.exp(1) - 1)\n",
    "    else:\n",
    "        f_x[i] = np.exp(2 - x_vals[i]) / (2 * np.exp(1) - 1)\n",
    "        \n",
    "plt.plot(x_vals, f_x)\n",
    "plt.show()"
   ]
  }
 ],
 "metadata": {
  "kernelspec": {
   "display_name": "Python 3",
   "language": "python",
   "name": "python3"
  },
  "language_info": {
   "codemirror_mode": {
    "name": "ipython",
    "version": 3
   },
   "file_extension": ".py",
   "mimetype": "text/x-python",
   "name": "python",
   "nbconvert_exporter": "python",
   "pygments_lexer": "ipython3",
   "version": "3.6.1"
  }
 },
 "nbformat": 4,
 "nbformat_minor": 2
}
