{
 "cells": [
  {
   "cell_type": "markdown",
   "metadata": {},
   "source": [
    "## ORIE 5580/5581: Homework 5\n",
    "\n",
    "### Bowen Gao (bg453), Soobin Lee (dyl44)"
   ]
  },
  {
   "cell_type": "markdown",
   "metadata": {},
   "source": [
    "### Problem 1"
   ]
  },
  {
   "cell_type": "markdown",
   "metadata": {},
   "source": [
    "#### (a)"
   ]
  },
  {
   "cell_type": "markdown",
   "metadata": {},
   "source": [
    "The estimate of the average time a passenger spends waiting for the next bus is as follows."
   ]
  },
  {
   "cell_type": "code",
   "execution_count": 1,
   "metadata": {
    "collapsed": true
   },
   "outputs": [],
   "source": [
    "import numpy as np\n",
    "import scipy.stats\n",
    "import matplotlib.pyplot as plt\n",
    "import pandas as pd\n",
    "import scipy.linalg\n",
    "import scipy.stats\n",
    "import scipy as sc\n",
    "%matplotlib inline"
   ]
  },
  {
   "cell_type": "code",
   "execution_count": 11,
   "metadata": {},
   "outputs": [
    {
     "name": "stdout",
     "output_type": "stream",
     "text": [
      "Average waiting time = 5.00745950689 minutes.\n"
     ]
    }
   ],
   "source": [
    "n = 50000\n",
    "X = np.zeros(n)\n",
    "t = 0\n",
    "for i in range(n):\n",
    "    \n",
    "    t = t + np.random.exponential(1. / 2)\n",
    "    X[i] = t\n",
    "\n",
    "n_of_bus = np.ceil(X[n - 1] / 10)\n",
    "\n",
    "j = 1\n",
    "idx_l = 0\n",
    "sum_wait_time = 0\n",
    "for i in range(n):\n",
    "    if X[i] > j * 10:\n",
    "        wait_time_j = (i - idx_l) * (j * 10) - sum(X[idx_l:i])\n",
    "        sum_wait_time = sum_wait_time + wait_time_j\n",
    "        idx_l = i\n",
    "        j = j + 1\n",
    "        \n",
    "wait_time_last = (n - idx_l) * (j * 10) - sum(X[idx_l:n])\n",
    "sum_wait_time = sum_wait_time + wait_time_last\n",
    "avg_wait_time = sum_wait_time / (n + 0.)\n",
    "print (\"Average waiting time =\", avg_wait_time, \"minutes.\")"
   ]
  },
  {
   "cell_type": "markdown",
   "metadata": {},
   "source": [
    "#### (b)"
   ]
  },
  {
   "cell_type": "markdown",
   "metadata": {},
   "source": [
    "Now we suppose that the buses arrive to the bus stop according to an exponential distribution with mean 10 minutes. We can see that the average waiting has increased. "
   ]
  },
  {
   "cell_type": "code",
   "execution_count": 26,
   "metadata": {},
   "outputs": [
    {
     "name": "stdout",
     "output_type": "stream",
     "text": [
      "Average waiting time = 10.1565824386 minutes.\n"
     ]
    }
   ],
   "source": [
    "n = 50000\n",
    "X = np.zeros(n)\n",
    "t = 0\n",
    "for i in range(n):\n",
    "    t = t + np.random.exponential(1. / 2)\n",
    "    X[i] = t\n",
    "\n",
    "bus = []\n",
    "t_bus = 0\n",
    "while t_bus < X[-1]:\n",
    "    t_bus = t_bus + np.random.exponential(10.)\n",
    "    bus.append(t_bus)\n",
    "\n",
    "j = 0\n",
    "idx_l = 0\n",
    "sum_wait_time = 0\n",
    "for i in range(50000):\n",
    "    if X[i] > bus[j]:\n",
    "        wait_time_j = (i - idx_l) * bus[j] - sum(X[idx_l:i])\n",
    "        sum_wait_time = sum_wait_time + wait_time_j\n",
    "        idx_l = i\n",
    "        j = j + 1\n",
    "\n",
    "wait_time_last = (n - idx_l) * bus[j] - sum(X[idx_l:n])\n",
    "sum_wait_time = sum_wait_time + wait_time_last\n",
    "avg_wait_time = sum_wait_time / (n + 0.)\n",
    "print (\"Average waiting time =\", avg_wait_time, \"minutes.\")"
   ]
  },
  {
   "cell_type": "markdown",
   "metadata": {},
   "source": [
    "#### (c)"
   ]
  },
  {
   "cell_type": "markdown",
   "metadata": {},
   "source": [
    "The estimate of the average interarrival time between buses that each passenger experiences is as follows. This is different than what we had expected."
   ]
  },
  {
   "cell_type": "code",
   "execution_count": 27,
   "metadata": {},
   "outputs": [
    {
     "name": "stdout",
     "output_type": "stream",
     "text": [
      "Estimate = 10.1308995779\n"
     ]
    }
   ],
   "source": [
    "interval = np.diff(bus)\n",
    "avg_interval =  np.mean(interval)\n",
    "\n",
    "print (\"Estimate =\", avg_interval)"
   ]
  },
  {
   "cell_type": "markdown",
   "metadata": {},
   "source": [
    "#### (d)"
   ]
  },
  {
   "cell_type": "markdown",
   "metadata": {},
   "source": [
    "The bus service claims that there is a bus every 10 minutes. This is roughly similar to what passengers experience in part (c), and the bus service is not wrong. If buses arrive to the bus stop deterministically every 10 minutes, then a passenger has to wait about 5 minutes, on average. However, if the buses arrive according to an Exponential distribution with a mean of 10 minutes, then the expected waiting time is not 5 minutes as we might expect. We notice that passengers will wait longer than half of the expected interarrival time of buses, on average. This is due to the memoryless property of the Exponential distribution, which implies that the expected time until the next bus arrives is the same no matter how long since the last bus arrived.\n",
    "\n"
   ]
  },
  {
   "cell_type": "markdown",
   "metadata": {},
   "source": [
    "### Problem 2"
   ]
  },
  {
   "cell_type": "markdown",
   "metadata": {},
   "source": [
    "The estimate and its corresponding $95\\%$ confidence interval of the probability that all three financial products simultaneously yield a positive return are as follows. We first compute the Cholesky decomposition of the covariance matrix."
   ]
  },
  {
   "cell_type": "code",
   "execution_count": 2,
   "metadata": {},
   "outputs": [
    {
     "name": "stdout",
     "output_type": "stream",
     "text": [
      "[[ 0.25        0.          0.        ]\n",
      " [-0.04        0.09165151  0.        ]\n",
      " [ 0.15       -0.09819805  0.24053512]]\n"
     ]
    }
   ],
   "source": [
    "# Compute Cholesky decomposition\n",
    "sigma = np.matrix([[0.0625, -0.01, 0.0375], [-0.01, 0.01, -0.015], [0.0375, -0.015, 0.09]])\n",
    "L = scipy.linalg.cholesky(sigma, lower = True)\n",
    "print(L)"
   ]
  },
  {
   "cell_type": "code",
   "execution_count": 3,
   "metadata": {},
   "outputs": [
    {
     "name": "stdout",
     "output_type": "stream",
     "text": [
      "Estimate = 0.3712\n",
      "95% CI = ( 0.364504173357 , 0.377895826643 )\n"
     ]
    }
   ],
   "source": [
    "# Estimate probability that all three financial products simultaneously yield a positive return\n",
    "n = 20000\n",
    "\n",
    "pos_return = np.zeros(n)\n",
    "mu = np.array([0.14, 0.07, 0.16])\n",
    "\n",
    "for i in range(n):\n",
    "    N = np.random.normal(0, 1, 3)\n",
    "    X = mu + np.dot(L, N)\n",
    "    \n",
    "    if X[0] > 0 and X[1] > 0 and X[2] > 0:\n",
    "        pos_return[i] = 1\n",
    "\n",
    "avg = np.mean(pos_return)\n",
    "LB = avg - scipy.stats.norm.ppf(0.975) * np.sqrt(np.var(pos_return, ddof = 1) / n)\n",
    "UB = avg + scipy.stats.norm.ppf(0.975) * np.sqrt(np.var(pos_return, ddof = 1) / n)\n",
    "\n",
    "print(\"Estimate =\", avg)\n",
    "print(\"95% CI = (\", LB, \",\", UB, \")\")"
   ]
  },
  {
   "cell_type": "markdown",
   "metadata": {},
   "source": [
    "If all three instruments were independent of each other, the estimate of the probability would be as follows."
   ]
  },
  {
   "cell_type": "code",
   "execution_count": 6,
   "metadata": {},
   "outputs": [
    {
     "name": "stdout",
     "output_type": "stream",
     "text": [
      "Esimate = 0.379616405667\n"
     ]
    }
   ],
   "source": [
    "# Estimate probability if all three instruments were independent of each other\n",
    "independent_prob = (1 - scipy.stats.norm.cdf(0, 0.14, 0.25)) * (1 - scipy.stats.norm.cdf(0, 0.07, 0.10)) * (1 - scipy.stats.norm.cdf(0, 0.16, 0.3))\n",
    "print(\"Esimate =\", independent_prob)"
   ]
  },
  {
   "cell_type": "markdown",
   "metadata": {},
   "source": [
    "### Problem 3"
   ]
  },
  {
   "cell_type": "markdown",
   "metadata": {},
   "source": [
    "A coffee shop in downtown Ithaca sees a Poisson arrival process with rate \n",
    "\n",
    "$$\\lambda(t) = \\frac{1}{56}(-5t^3 + 90t^2 - 300t + 760) \\text{  for } 0 \\leq t \\leq 12,$$\n",
    "\n",
    "over the 12 hours on the weekdays it is open."
   ]
  },
  {
   "cell_type": "markdown",
   "metadata": {},
   "source": [
    "#### (a)"
   ]
  },
  {
   "cell_type": "markdown",
   "metadata": {},
   "source": [
    "The number of arrivals over the 12 hours has a Poisson distribution with parameter\n",
    "\n",
    "\\begin{align*}\n",
    "\\int_{0}^{12} \\lambda(t) \\: dt &= \\int_{0}^{12} \\frac{1}{56}(-5t^3 + 90t^2 - 300t + 760) \\: dt \\\\\n",
    "&= \\frac{1}{56} (13,440) \\\\\n",
    "&= 240.\n",
    "\\end{align*}\n",
    "\n",
    "If $N$ is the number of arrivals and $\\lambda = 240$, then the exact probability that the coffee store will see more than 250 customers in one 12 hour day is\n",
    "\n",
    "\\begin{align*}\n",
    "P(N > 250) &= 1 - P(N \\leq 250) \\\\\n",
    "&= 1 - \\sum_{k = 0}^{250} \\frac{\\lambda^k e^{-\\lambda}}{k!} \\\\\n",
    "&\\approx 0.247.\n",
    "\\end{align*}"
   ]
  },
  {
   "cell_type": "markdown",
   "metadata": {},
   "source": [
    "#### (b)"
   ]
  },
  {
   "cell_type": "markdown",
   "metadata": {},
   "source": [
    "We find that $\\lambda'(t) = -\\frac{15}{56}(t^2 - 12t + 20) = 0$ when $t = 2$ or $t = 10.$ Since the rate is maximized at $t = 10$, $\\lambda^*$ = $\\lambda(10)$ = 220/7. The estimate of the probability and its $95\\%$ confidence interval are as follows."
   ]
  },
  {
   "cell_type": "code",
   "execution_count": 32,
   "metadata": {},
   "outputs": [
    {
     "name": "stdout",
     "output_type": "stream",
     "text": [
      "Estimate = 0.276\n",
      "95% CI = ( 0.236778730889 , 0.315221269111 )\n"
     ]
    }
   ],
   "source": [
    "def NPP():\n",
    "    X =0\n",
    "    T = 0\n",
    "    T_s = 0\n",
    "    lambda_b = 220. / 7.\n",
    "    while T <= 12:\n",
    "        T_s = T_s + np.random.exponential(1. / lambda_b)\n",
    "        U = np.random.rand()\n",
    "        lambda_T_s = (1. / 56) * ((-5) * T_s ** 3 + 90 * T_s ** 2 - 300 * T_s + 760)\n",
    "        if U > (lambda_T_s + 0.) / lambda_b:\n",
    "            continue\n",
    "        else:\n",
    "            T = T_s\n",
    "            X = X + 1\n",
    "    return X\n",
    "\n",
    "# print NPP()\n",
    "nums = [NPP() > 250 for i in range(500)]\n",
    "\n",
    "\n",
    "print (\"Estimate =\", np.mean(nums))\n",
    "\n",
    "var = np.var(nums, ddof = 1)\n",
    "LB = np.mean(nums) - scipy.stats.norm.ppf(0.975) * np.sqrt(var / 500)\n",
    "RB = np.mean(nums) + scipy.stats.norm.ppf(0.975) * np.sqrt(var / 500)\n",
    "print(\"95% CI = (\", LB, \",\", RB, \")\")"
   ]
  },
  {
   "cell_type": "markdown",
   "metadata": {},
   "source": [
    "#### (c)"
   ]
  },
  {
   "cell_type": "markdown",
   "metadata": {},
   "source": [
    "Both the bar plot and rate function $\\lambda(t)$ are shown below. We can see that they both follow the same shape."
   ]
  },
  {
   "cell_type": "code",
   "execution_count": 34,
   "metadata": {},
   "outputs": [
    {
     "name": "stdout",
     "output_type": "stream",
     "text": [
      "[ 11.658   9.118   8.648  10.64   14.226  17.614  21.95   26.162  29.286\n",
      "  31.384  30.926  28.656]\n"
     ]
    },
    {
     "data": {
      "image/png": "[encoded data removed]",
      "text/plain": [
       "<matplotlib.figure.Figure at 0x10c4a95c0>"
      ]
     },
     "metadata": {},
     "output_type": "display_data"
    }
   ],
   "source": [
    "def NPP_T():\n",
    "    T_list = []\n",
    "    T = 0\n",
    "    T_s = 0\n",
    "    lambda_b = 220. / 7.\n",
    "    while T <= 12:\n",
    "        T_s = T_s + np.random.exponential(1. / lambda_b)\n",
    "        U = np.random.rand()\n",
    "        lambda_T_s = (1. / 56) * ((-5) * T_s ** 3 + 90 * T_s ** 2 - 300 * T_s + 760)\n",
    "        if U > (lambda_T_s + 0.) / lambda_b:\n",
    "            continue\n",
    "        else:\n",
    "            T = T_s\n",
    "            T_list.append(T)\n",
    "    return T_list\n",
    "            \n",
    "def nums_12 (T_list):\n",
    "    nums_12 = np.zeros(12)\n",
    "    for i in range(12):\n",
    "        nums_12[i] = np.sum(np.array([m > i for m in T_list]) & np.array([n <= i+1 for n in T_list]))\n",
    "    return nums_12\n",
    "\n",
    "data = np.zeros((500, 12))\n",
    "for i in range(500):\n",
    "    data[i, :] = nums_12(NPP_T())\n",
    "\n",
    "result = np.zeros(12)\n",
    "for i in range(12):\n",
    "    result[i] = np.mean(data[: , i])\n",
    "\n",
    "print (result)\n",
    "r = [i + 0.5 for i in range(len(result))]\n",
    "plt.bar(r, result)\n",
    "x = [i / 1500. * 12 for i in range(1500)]\n",
    "fx = [(1. / 56)*((-5) * i ** 3 + 90 * i ** 2 - 300 * i + 760) for i in x]\n",
    "plt.plot(x, fx, 'r')\n",
    "plt.show()"
   ]
  },
  {
   "cell_type": "markdown",
   "metadata": {},
   "source": [
    "### Problem 4"
   ]
  },
  {
   "cell_type": "markdown",
   "metadata": {},
   "source": [
    "#### (a)"
   ]
  },
  {
   "cell_type": "markdown",
   "metadata": {},
   "source": [
    "We plot the empirical histogram and empirical CDF of the data. The first and second moments of the data are $m_1 = 3.933$ and $m_2 = 21.387$, respectively."
   ]
  },
  {
   "cell_type": "code",
   "execution_count": 11,
   "metadata": {
    "collapsed": true
   },
   "outputs": [],
   "source": [
    "# Load data\n",
    "data = pd.read_csv('/Users/SoobinLee/Desktop/ORIE_5580_2017/Psets/hotel_data.csv', header = None).values.flatten()"
   ]
  },
  {
   "cell_type": "code",
   "execution_count": 22,
   "metadata": {},
   "outputs": [
    {
     "data": {
      "image/png": "[encoded data removed]",
      "text/plain": [
       "<matplotlib.figure.Figure at 0x10be03828>"
      ]
     },
     "metadata": {},
     "output_type": "display_data"
    },
    {
     "name": "stdout",
     "output_type": "stream",
     "text": [
      "m1 = 3.933  m2 = 21.387\n"
     ]
    }
   ],
   "source": [
    "# Empirical Histogram and CDF\n",
    "n = len(data)\n",
    "\n",
    "plt.hist(data, normed = 1)\n",
    "\n",
    "sorted_data = np.sort(data)\n",
    "Y = (np.arange(len(sorted_data)) + 0.5 * np.ones(n)) / len(sorted_data)\n",
    "plt.plot(sorted_data, Y, color = 'r')\n",
    "plt.show()\n",
    "\n",
    "# Compute first and second moments\n",
    "m1 = np.mean(data)\n",
    "m2 = np.mean(data ** 2)\n",
    "print ('m1 =', m1, '','m2 =', m2)"
   ]
  },
  {
   "cell_type": "markdown",
   "metadata": {
    "collapsed": true
   },
   "source": [
    "#### (b)"
   ]
  },
  {
   "cell_type": "markdown",
   "metadata": {},
   "source": [
    "Next, we choose the Poisson parameter $\\lambda$ using the MLE method, and study the fit using the Q-Q plot. The data  follow a somewhat linear trend, but we can see that there are some points that deviate from the pattern. We might consider a different distribution that may be a more appropriate model for the data."
   ]
  },
  {
   "cell_type": "code",
   "execution_count": 23,
   "metadata": {},
   "outputs": [
    {
     "data": {
      "image/png": "[encoded data removed]",
      "text/plain": [
       "<matplotlib.figure.Figure at 0x10cb4be10>"
      ]
     },
     "metadata": {},
     "output_type": "display_data"
    }
   ],
   "source": [
    "MLE = m1\n",
    "Z_poi = scipy.stats.poisson.ppf(Y, MLE)\n",
    "plt.scatter(sorted_data, Z_poi, s = 5)\n",
    "plt.plot(range(15), 'r')\n",
    "plt.show()"
   ]
  },
  {
   "cell_type": "markdown",
   "metadata": {},
   "source": [
    "#### (c)"
   ]
  },
  {
   "cell_type": "markdown",
   "metadata": {},
   "source": [
    "Using the given facts,\n",
    "\n",
    "\\begin{align*}\n",
    "E(Z) &= \\alpha + (1 - \\alpha)(1 + \\lambda) = 3.933 \\\\\n",
    "E(Z^2) &= \\alpha + (1 - \\alpha)(\\lambda + (1 + \\lambda)^2) = 21.387.\n",
    "\\end{align*}\n",
    "\n",
    "We find that $\\widehat{\\alpha} = 0.26$ and $\\widehat{\\lambda} = 3.95.$"
   ]
  },
  {
   "cell_type": "code",
   "execution_count": 6,
   "metadata": {},
   "outputs": [
    {
     "data": {
      "text/plain": [
       "[(0.257766264020708, 3.95158540743266)]"
      ]
     },
     "execution_count": 6,
     "metadata": {},
     "output_type": "execute_result"
    }
   ],
   "source": [
    "# Solve for unknowns alpha and lambda\n",
    "from sympy import *\n",
    "\n",
    "x, y = symbols('x y')\n",
    "solve([Eq(x + (1 - x) * (1 + y), 3.933), Eq(x + (1 - x) * (y + (1 + y) ** 2), 21.389)], [x, y])"
   ]
  },
  {
   "cell_type": "markdown",
   "metadata": {},
   "source": [
    "#### (d)"
   ]
  },
  {
   "cell_type": "markdown",
   "metadata": {},
   "source": [
    "Based on the Q-Q plot below, the data follow a linear trend, so the mixture distribution seems to be an appropriate model for the data."
   ]
  },
  {
   "cell_type": "code",
   "execution_count": 32,
   "metadata": {},
   "outputs": [
    {
     "data": {
      "image/png": "[encoded data removed]",
      "text/plain": [
       "<matplotlib.figure.Figure at 0x10c9f0c50>"
      ]
     },
     "metadata": {},
     "output_type": "display_data"
    }
   ],
   "source": [
    "Z = np.zeros(len(Y))\n",
    "for i in range(len(Y)):\n",
    "    if Y[i] <= alpha:\n",
    "        Z[i] = 1\n",
    "    else:\n",
    "        Z[i] = 1 +  scipy.stats.poisson.ppf((Y[i] - alpha) / (1. - alpha), mix_lambda)\n",
    "\n",
    "plt.scatter(sorted_data, Z, s = 5)\n",
    "plt.plot(range(15), 'r')\n",
    "plt.show()"
   ]
  }
 ],
 "metadata": {
  "kernelspec": {
   "display_name": "Python 3",
   "language": "python",
   "name": "python3"
  },
  "language_info": {
   "codemirror_mode": {
    "name": "ipython",
    "version": 3
   },
   "file_extension": ".py",
   "mimetype": "text/x-python",
   "name": "python",
   "nbconvert_exporter": "python",
   "pygments_lexer": "ipython3",
   "version": "3.6.1"
  }
 },
 "nbformat": 4,
 "nbformat_minor": 2
}
