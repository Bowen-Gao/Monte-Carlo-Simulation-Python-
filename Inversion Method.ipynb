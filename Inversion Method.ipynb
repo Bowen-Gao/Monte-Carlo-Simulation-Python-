{
 "cells": [
  {
   "cell_type": "markdown",
   "metadata": {},
   "source": [
    "## ORIE 5580/5581: Homework 4\n",
    "\n",
    "### Bowen Gao (bg453), David Lee (dyl44)"
   ]
  },
  {
   "cell_type": "markdown",
   "metadata": {},
   "source": [
    "### Problem 1"
   ]
  },
  {
   "cell_type": "markdown",
   "metadata": {},
   "source": [
    "#### (a)"
   ]
  },
  {
   "cell_type": "markdown",
   "metadata": {},
   "source": [
    "The $95\\%$ confidence interval for the probability is as follows. The true probability is $P(X > 24.02) = 1 - P(X \\leq 24.02) = 0.208,$ and we can see that this probability is contained within the confidence interval."
   ]
  },
  {
   "cell_type": "code",
   "execution_count": 2,
   "metadata": {
    "collapsed": true
   },
   "outputs": [],
   "source": [
    "import numpy as np\n",
    "import scipy.stats\n",
    "import matplotlib.pyplot as plt"
   ]
  },
  {
   "cell_type": "code",
   "execution_count": 51,
   "metadata": {},
   "outputs": [
    {
     "name": "stdout",
     "output_type": "stream",
     "text": [
      "20861.0\n"
     ]
    }
   ],
   "source": [
    "# pilot run\n",
    "l = 0.005\n",
    "CA_test = np.random.normal(23.81, 0.15, 100)\n",
    "measure_CA_test = CA_test + np.random.normal(0, 0.21, 100)\n",
    "result_test = measure_CA_test > 24.02\n",
    "test_var = np.var(result_test, ddof = 1)\n",
    "N = np.ceil(test_var * (scipy.stats.norm.ppf(0.975)/l) ** 2)\n",
    "print (N)"
   ]
  },
  {
   "cell_type": "code",
   "execution_count": 52,
   "metadata": {},
   "outputs": [
    {
     "name": "stdout",
     "output_type": "stream",
     "text": [
      "(0.20595343054994203, 0.21703683837292842)\n"
     ]
    }
   ],
   "source": [
    "N = int(N)\n",
    "CA = np.random.normal(23.81, 0.15, N)\n",
    "measure_CA = CA + np.random.normal(0, 0.21, N)\n",
    "result = measure_CA > 24.02\n",
    "var = np.var(result, ddof = 1)\n",
    "LB = np.mean(result) - scipy.stats.norm.ppf(0.975)*np.sqrt(var/N)\n",
    "RB = np.mean(result) + scipy.stats.norm.ppf(0.975)*np.sqrt(var/N)\n",
    "print (LB, RB)"
   ]
  },
  {
   "cell_type": "markdown",
   "metadata": {},
   "source": [
    "#### (b)"
   ]
  },
  {
   "cell_type": "markdown",
   "metadata": {},
   "source": [
    "The $95\\%$ confidence interval for the probability is as follows."
   ]
  },
  {
   "cell_type": "code",
   "execution_count": 54,
   "metadata": {},
   "outputs": [
    {
     "name": "stdout",
     "output_type": "stream",
     "text": [
      "12712.0\n"
     ]
    }
   ],
   "source": [
    "#pilot run\n",
    "l = 0.005\n",
    "CA_test = np.random.normal(23.81, 0.15, 100)\n",
    "measure_CA_test1 = CA_test + np.random.normal(0, 0.21, 100)\n",
    "measure_CA_test2 = CA_test + np.random.normal(0, 0.21, 100)\n",
    "result_test = np.empty(100)\n",
    "for i in range(100):\n",
    "    if  (measure_CA_test1[i] <= 24.02) or (measure_CA_test2[i] <= 24.02):\n",
    "        result_test[i] = 1\n",
    "    else:\n",
    "        result_test[i] = 0\n",
    "test_var = np.var(result_test, ddof = 1)\n",
    "N = np.ceil(test_var*(scipy.stats.norm.ppf(0.975)/l)**2)\n",
    "print (N)"
   ]
  },
  {
   "cell_type": "code",
   "execution_count": 55,
   "metadata": {},
   "outputs": [
    {
     "name": "stdout",
     "output_type": "stream",
     "text": [
      "(0.92231393842418508, 0.9313676223058337)\n"
     ]
    }
   ],
   "source": [
    "N = int(N)\n",
    "CA = np.random.normal(23.81, 0.15, N)\n",
    "measure_CA1 = CA + np.random.normal(0, 0.21, N)\n",
    "measure_CA2 = CA + np.random.normal(0, 0.21, N)\n",
    "result = np.empty(N)\n",
    "for i in range(N):\n",
    "    if  (measure_CA1[i] <= 24.02) or (measure_CA2[i] <= 24.02):\n",
    "        result[i] = 1\n",
    "    else:\n",
    "        result[i] = 0\n",
    "var = np.var(result, ddof = 1)\n",
    "LB = np.mean(result) - scipy.stats.norm.ppf(0.975)*np.sqrt(var/N)\n",
    "RB = np.mean(result) + scipy.stats.norm.ppf(0.975)*np.sqrt(var/N)\n",
    "print (LB, RB)"
   ]
  },
  {
   "cell_type": "markdown",
   "metadata": {},
   "source": [
    "#### (c)"
   ]
  },
  {
   "cell_type": "markdown",
   "metadata": {},
   "source": [
    "The estimated probability that a Canadian quarter will be accepted by the vending machine as a U.S. quarter within 2 tries is as follows."
   ]
  },
  {
   "cell_type": "code",
   "execution_count": 6,
   "metadata": {},
   "outputs": [
    {
     "name": "stdout",
     "output_type": "stream",
     "text": [
      "The estimated probability is 0.0403\n"
     ]
    }
   ],
   "source": [
    "N = 10000\n",
    "mean = (23.81, 1.58)\n",
    "cov = [[0.15**2, -0.5*0.15*0.1], [-0.5*0.15*0.1, 0.1**2]]\n",
    "CA = np.random.multivariate_normal(mean, cov, N)\n",
    "CA_d1 = CA[:, 0] + np.random.normal(0,0.21,N)\n",
    "CA_t1 = CA[:, 1] +np.random.normal(0,0.05,N)\n",
    "CA_d2 = CA[:, 0] + np.random.normal(0,0.21,N)\n",
    "CA_t2 = CA[:, 1] +np.random.normal(0,0.05,N)\n",
    "results1 = np.empty(N)\n",
    "for i in range(N):\n",
    "    if (CA_d1[i] > 24.02 and CA_t1[i] > 1.68) or (CA_d2[i] > 24.02 and CA_t2[i] > 1.68):\n",
    "        results1[i] = 1\n",
    "    else:\n",
    "        results1[i] = 0\n",
    "\n",
    "results2 = np.empty(N)\n",
    "\n",
    "prob = np.mean(results1)\n",
    "print (\"The estimated probability is\", prob)"
   ]
  },
  {
   "cell_type": "markdown",
   "metadata": {
    "collapsed": true
   },
   "source": [
    "### Problem 2"
   ]
  },
  {
   "cell_type": "markdown",
   "metadata": {},
   "source": [
    "Suppose that we want to generate a random variable $X$ whose density function is \n",
    "\n",
    "$$f(x) = \\frac{1}{2} x^2 e^{-x}, \\text{ for } x > 0$$\n",
    "\n",
    "by using the acceptance-rejection method with an exponential density having rate $\\lambda$."
   ]
  },
  {
   "cell_type": "markdown",
   "metadata": {},
   "source": [
    "#### (a)"
   ]
  },
  {
   "cell_type": "markdown",
   "metadata": {},
   "source": [
    "For $x > 0$, we have $f(x)$ and $g(x) = \\lambda e^{-\\lambda x}$. We know that\n",
    "\n",
    "$$\\frac{1}{2} x^2 e^{-x} \\leq M \\lambda e^{-\\lambda x} \\Rightarrow M \\geq \\frac{1}{2\\lambda} x^2 e^{(\\lambda - 1)x}.$$\n",
    "\n",
    "Let us define $h(x) = \\frac{1}{2\\lambda} x^2 e^{(\\lambda - 1)x}.$ Then,\n",
    "\n",
    "\\begin{align*}\n",
    "h'(x) &= \\frac{1}{2 \\lambda} \\bigg( xe^{(\\lambda - 1) x} \\cdot ((\\lambda - 1) x + 2) \\bigg) = 0 \\\\\n",
    "&\\Rightarrow x^* = \\frac{2}{1 - \\lambda}.\n",
    "\\end{align*}\n",
    "\n",
    "We can see that $h(x)$ is maximized at $x^* = \\frac{2}{1 - \\lambda}$ and thus the number of expected samples needed for each accepted sample is\n",
    "\n",
    "\\begin{align*}\n",
    "h(x^*) &= \\frac{1}{2\\lambda} \\bigg( \\frac{2}{1 - \\lambda} \\bigg)^2 e^{(\\lambda - 1)(2 / (1 - \\lambda))} \\\\\n",
    "&= \\frac{1}{2\\lambda} \\bigg( \\frac{2}{1 - \\lambda} \\bigg)^2 e^{-2} \\\\\n",
    "&= \\frac{2e^{-2}}{\\lambda (1 - \\lambda)^2}.\n",
    "\\end{align*}"
   ]
  },
  {
   "cell_type": "markdown",
   "metadata": {},
   "source": [
    "#### (b)"
   ]
  },
  {
   "cell_type": "markdown",
   "metadata": {},
   "source": [
    "Now, we find the $\\lambda$ that minimizes $h(x^*),$ and so\n",
    "\n",
    "\\begin{align*}\n",
    "h'(x^*) &= 2e^{-2} \\bigg( \\frac{1 - 3\\lambda}{(\\lambda - 1)^3 \\lambda^2} \\bigg) = 0 \\\\\n",
    "&\\Rightarrow 1 - 3\\lambda = 0 \\\\\n",
    "&\\Rightarrow \\lambda = \\frac{1}{3}.\n",
    "\\end{align*}\n",
    "\n",
    "Therefore, the value of $\\lambda$ that minimizes the expected number of iterations of the algorithm used to generate $X$ is 1/3."
   ]
  },
  {
   "cell_type": "markdown",
   "metadata": {},
   "source": [
    "### Problem 3"
   ]
  },
  {
   "cell_type": "markdown",
   "metadata": {},
   "source": [
    "Let the random variable $X$ have the density\n",
    "\n",
    "$$\n",
    "f(x) = \n",
    "\\begin{cases}\n",
    "(5x^4 + 4x^3 + 1) / 3 &\\text{ for } 0 \\leq x \\leq 1, \\\\\n",
    "0 &\\text{ otherwise.}\n",
    "\\end{cases}\n",
    "$$"
   ]
  },
  {
   "cell_type": "markdown",
   "metadata": {},
   "source": [
    "#### (a)"
   ]
  },
  {
   "cell_type": "markdown",
   "metadata": {},
   "source": [
    "Let's assume that $M$ is the upper bound on the p.d.f. of $X$: \n",
    "\n",
    "$$M \\geq \\max_{x \\in [0, 1]} f(x).$$\n",
    "\n",
    "Since $f'(x) > 0$ over $x \\in [0, 1]$, we can set $M = 10 / 3.$ Thus, the acceptance-rejection method is as follows:\n",
    "\n",
    "1. Generate $U_1 \\sim U[0, 1], U_2 \\sim U[0, 1].$\n",
    "2. Set $Z_1 = U_1$ and $Z_2 = \\frac{10}{3}U_2.$\n",
    "3. If $Z_2 \\leq \\frac{1}{3}(5U_1^4 + 4U_1^3 + 1)$, return $X = U_1$; else go to step 1."
   ]
  },
  {
   "cell_type": "markdown",
   "metadata": {},
   "source": [
    "#### (b)"
   ]
  },
  {
   "cell_type": "markdown",
   "metadata": {},
   "source": [
    "Since the acceptance probability (success) is $p = 1 / M$, the number of samples needed will follow a geometric distribution with probability $p$. Given that the mean of the distribution is $1 / p = M$, the number of samples that the AR algorithm would need in order to generate one sample of $X$ is $2M = 20/3$, on average."
   ]
  },
  {
   "cell_type": "markdown",
   "metadata": {},
   "source": [
    "#### (c)"
   ]
  },
  {
   "cell_type": "markdown",
   "metadata": {},
   "source": [
    "Now, we use our algorithm in (a) to generate 2,500 samples of $X$. Then, we plot a histogram of our sample and compare it against the true pdf. We can see that both the histogram and pdf have a similar shape. "
   ]
  },
  {
   "cell_type": "code",
   "execution_count": 57,
   "metadata": {},
   "outputs": [
    {
     "data": {
      "image/png": "[encoded data removed]",
      "text/plain": [
       "<matplotlib.figure.Figure at 0x9d9fba8>"
      ]
     },
     "metadata": {},
     "output_type": "display_data"
    }
   ],
   "source": [
    "def AC(a = 0, b = 1, M = 10./3.):\n",
    "    stop = 0\n",
    "    while stop == 0:\n",
    "        U1 = np.random.uniform(0, 1)\n",
    "        U2 = np.random.uniform(0, 1)\n",
    "        Z1 = a + (b - a)*U1\n",
    "        Z2 = M * U2\n",
    "        if Z2 <= (5 * Z1 ** 4 + 4 * Z1 ** 3 + 1) / 3.:\n",
    "            stop = 1\n",
    "            return Z1\n",
    "\n",
    "results = np.empty(2500)\n",
    "for i in range(2500):\n",
    "    results[i] = AC()\n",
    "plt.hist(results, normed = 1)\n",
    "x = np.linspace(0, 1, 1000)\n",
    "fx = (5 * x ** 4 + 4 * x ** 3 + 1) / 3.\n",
    "plt.plot(x, fx)\n",
    "plt.show()"
   ]
  },
  {
   "cell_type": "markdown",
   "metadata": {},
   "source": [
    "### Problem 4"
   ]
  },
  {
   "cell_type": "markdown",
   "metadata": {},
   "source": [
    "#### (a)"
   ]
  },
  {
   "cell_type": "markdown",
   "metadata": {},
   "source": [
    "The estimates of the 10th percentile, median, and 90th percentile of the total cost of sourcing the wood chips needed to satisfy MDF demand are 98,560, 98,560, and 120,200, respectively. An estimate and a $95\\%$ confidence interval for the expected total cost of sourcing the wood chips are reported below."
   ]
  },
  {
   "cell_type": "code",
   "execution_count": 58,
   "metadata": {},
   "outputs": [
    {
     "name": "stdout",
     "output_type": "stream",
     "text": [
      "98560 98560.0 120200.0\n"
     ]
    }
   ],
   "source": [
    "import numpy as np\n",
    "\n",
    "def cost_of_demand ():\n",
    "    big = np.random.binomial(2, 0.4)\n",
    "    small = np.random.binomial(10, 0.5)\n",
    "    demand = 4000 + big * 2500 + small * 200\n",
    "    if (demand <= 8000):\n",
    "        return 98560\n",
    "    elif (demand > 8000 and demand <= 10000 ):\n",
    "        if (demand > 8000 and demand <= 8400):\n",
    "            return 98560 + (demand - 8000) * 10\n",
    "        elif (demand > 8400 and demand <= 9000):\n",
    "            return 98560 + 400 * 10 + (demand - 8400) * 11.2\n",
    "        elif (demand > 9000 and demand <= 9400):\n",
    "            return 98560 + 400 * 10 + 600 * 11.2 + (demand - 9000) * 12.3\n",
    "        else:\n",
    "            return 98560 + 400 * 10 + 600 * 11.2 + 400 * 12.3 + (demand - 9400) * 15\n",
    "    else:\n",
    "        return 123200 + (demand - 10000) * np.random.triangular(16, 20, 30)\n",
    "    \n",
    "res = [cost_of_demand() for i in range(100000)]\n",
    "sorted_res = sorted(res)\n",
    "tenth = sorted_res[9999]\n",
    "median = np.median(sorted_res)\n",
    "ninetieth = sorted_res[89999]\n",
    "print tenth, median, ninetieth"
   ]
  },
  {
   "cell_type": "code",
   "execution_count": 59,
   "metadata": {},
   "outputs": [
    {
     "name": "stdout",
     "output_type": "stream",
     "text": [
      "('The expected total cost of wood chip supply is', 102673.66501587623)\n",
      "('The 95% confidence interval is', 102613.99589919548, 102733.33413255699)\n"
     ]
    }
   ],
   "source": [
    "import scipy.stats\n",
    "\n",
    "print (\"The expected total cost of wood chip supply is\", np.mean(res))\n",
    "\n",
    "var = np.var(res, ddof = 1)\n",
    "LB = np.mean(res) - scipy.stats.norm.ppf(0.975) * np.sqrt(var/100000)\n",
    "RB = np.mean(res) + scipy.stats.norm.ppf(0.975) * np.sqrt(var/100000)\n",
    "print (\"The 95% confidence interval is\", LB, RB)"
   ]
  },
  {
   "cell_type": "markdown",
   "metadata": {},
   "source": [
    "#### (b)"
   ]
  },
  {
   "cell_type": "markdown",
   "metadata": {},
   "source": [
    "The minimum expected demand is $4000+5000\\times0.4+2000\\times0.5 = 7000$. Thus, Fingerlakes should should set up a contract with **Elmira Road Millers, Horseheads Mill, and Cortland Star**, and buy the extra (if needed) on the market."
   ]
  },
  {
   "cell_type": "code",
   "execution_count": 60,
   "metadata": {},
   "outputs": [
    {
     "name": "stdout",
     "output_type": "stream",
     "text": [
      "7050.42\n",
      "The 95% confidence interval is 7015.74731877 7085.09268123\n"
     ]
    }
   ],
   "source": [
    "# import numpy as np\n",
    "# import scipy.stats\n",
    "\n",
    "def demand ():\n",
    "    big = np.random.binomial(2, 0.4)\n",
    "    small = np.random.binomial(10, 0.5)\n",
    "    return 4000 + big * 2500 + small * 200\n",
    "    \n",
    "demand = [demand() for i in range(10000)]\n",
    "expected_demand = np.mean(demand)\n",
    "print expected_demand\n",
    "var_demand = np.var(demand, ddof = 1)\n",
    "LB = np.mean(demand) - scipy.stats.norm.ppf(0.975) * np.sqrt(var_demand/10000)\n",
    "RB = np.mean(demand) + scipy.stats.norm.ppf(0.975) * np.sqrt(var_demand/10000)\n",
    "print 'The 95% confidence interval is', LB, RB"
   ]
  },
  {
   "cell_type": "markdown",
   "metadata": {},
   "source": [
    "By simulating a 10000 times, we can get the same conclusion."
   ]
  },
  {
   "cell_type": "code",
   "execution_count": 61,
   "metadata": {},
   "outputs": [
    {
     "name": "stdout",
     "output_type": "stream",
     "text": [
      "The expected chip supply cost is 78200.0\n"
     ]
    }
   ],
   "source": [
    "print \"The expected chip supply cost is\", 2000*10+3000*11.2+2000*12.3"
   ]
  }
 ],
 "metadata": {
  "kernelspec": {
   "display_name": "Python 3",
   "language": "python",
   "name": "python3"
  },
  "language_info": {
   "codemirror_mode": {
    "name": "ipython",
    "version": 3
   },
   "file_extension": ".py",
   "mimetype": "text/x-python",
   "name": "python",
   "nbconvert_exporter": "python",
   "pygments_lexer": "ipython3",
   "version": "3.6.1"
  }
 },
 "nbformat": 4,
 "nbformat_minor": 2
}
