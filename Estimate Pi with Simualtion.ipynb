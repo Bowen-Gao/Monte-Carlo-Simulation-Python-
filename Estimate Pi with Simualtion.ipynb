{
 "cells": [
  {
   "cell_type": "markdown",
   "metadata": {},
   "source": [
    "# ORIE 5580/5581: Homework 2\n",
    "## Bowen Gao (bg453), Soobin Lee (dyl44)\n",
    "\n",
    "## 1.\n",
    "### (a)\n",
    "\n",
    "The exact probability that a random point $(X, Y)$ falls inside the circle is $P = \\frac{\\pi}{4}$. An estimate of $\\pi$ is $\\widehat{\\pi}$ = $\\frac{4N_{circle}}{n}$. \n",
    "\n",
    "Any point $Z_i(x_i, y_i)(i = 1, 2,...,n)$ generated follows a Bernoulli random variable with parameter $p = \\frac{\\pi}{4}$.\n",
    "Therefore, its sum $\\sum_{i=1}^{n}Z_i = N_{circle}$ follows a binomial distribution with parameters $n$ and $p = \\frac{\\pi}{4}$.  Its probability mass function is:  \n",
    "\n",
    "$$\n",
    "P(N_{circle} = i) = \\binom{n}{i}\\bigg(\\frac{\\pi}{4}\\bigg)^{i}\\bigg(1-\\frac{\\pi}{4}\\bigg)^{n-i},　i = 1, 2,...,n.\n",
    "$$\n",
    "\n",
    "\n"
   ]
  },
  {
   "cell_type": "markdown",
   "metadata": {},
   "source": [
    "### (b)\n",
    "According to Central Limit Theorem, since $Z_i$ are i.i.d., \n",
    "$$\n",
    "\\frac{1}{n}\\sum_{i=1}^{n}Z_i \\stackrel{D}{\\approx} E(Z_i) + \\frac{\\sigma}{\\sqrt{n}}N(0,1).\n",
    "$$\n",
    "Thus,\n",
    "$$\n",
    "\\widehat{\\pi} = \\frac{4N_{circle}}{n} \\stackrel{D}{\\approx} 4p + \\frac{4\\sqrt{p(1-p)}}{\\sqrt{n}}N(0,1).\n",
    "$$\n",
    "\n",
    "Theoretically, for confidence level $\\alpha$ and half-width $\\ell$, the number of samples that should be generated is:  \n",
    "\n",
    "$$\n",
    "N = \\bigg\\lceil\\frac{z^2_{\\alpha/2}\\widetilde{s}^2_k}{\\ell^2}\\bigg\\rceil,\n",
    "$$\n",
    "where $\\widetilde{s}^2_k$ is the unbiased estimation of $\\sigma^2$.  \n",
    "\n",
    "For this problem, $\\alpha$ is $10\\%$. Since we already know the distribution of $Z_i$, we can use the variance of $4Z_i$, which is $16p(1-p)$. To achieve two digits of precision, the difference between the right bound and the left bound of confidence interval should be less than $0.01$. Therefore, the half-width of the confidence interval should be less than $0.005$.  "
   ]
  },
  {
   "cell_type": "code",
   "execution_count": 6,
   "metadata": {},
   "outputs": [
    {
     "data": {
      "text/plain": [
       "291848.72702151304"
      ]
     },
     "execution_count": 6,
     "metadata": {},
     "output_type": "execute_result"
    }
   ],
   "source": [
    "import numpy as np\n",
    "import scipy.stats\n",
    "\n",
    "p = np.pi / 4\n",
    "var = 16 * p * (1 - p)\n",
    "ell = 0.005\n",
    "(np.sqrt(var) * scipy.stats.norm.ppf(0.05) / ell) ** 2"
   ]
  },
  {
   "cell_type": "markdown",
   "metadata": {},
   "source": [
    "Thus, we should generate at least $291849$ random points in order to obtain an estimate of $\\pi$ that is accurate to two decimal places with $90\\%$ confidence. "
   ]
  },
  {
   "cell_type": "markdown",
   "metadata": {},
   "source": [
    "### (c)"
   ]
  },
  {
   "cell_type": "markdown",
   "metadata": {},
   "source": [
    "Using our simulation from Homework 1, we obtain an estimate of $\\pi$ based on the number of points we determined in part (b). According to the output below, the estimate of $\\pi$ is approximately 3.14 and the $90\\%$ fixed-sample confidence interval is (3.13, 3.14)."
   ]
  },
  {
   "cell_type": "code",
   "execution_count": 7,
   "metadata": {},
   "outputs": [
    {
     "name": "stdout",
     "output_type": "stream",
     "text": [
      "The estimate of pi is 3.14173425298699\n",
      "The 90% fixed-sample confidence interval is  3.1367345465 3.14673395948\n"
     ]
    }
   ],
   "source": [
    "# import numpy as np\n",
    "# import scipy.stats\n",
    "\n",
    "n = 291849\n",
    "\n",
    "x = np.random.uniform(-1, 1, [n,1])\n",
    "y = np.random.uniform(-1, 1, [n,1])\n",
    "z = []\n",
    "\n",
    "for i in range(n): \n",
    "    if (x[i] ** 2 + y[i] ** 2) <= 1:\n",
    "        z.append(1)\n",
    "    else:\n",
    "        z.append(0)\n",
    "p0 = sum(z) / (n + 0.)\n",
    "estimated_pi = 4. * p0\n",
    "print (\"The estimate of pi is\", estimated_pi)\n",
    "\n",
    "# p = estimated_pi / 4.\n",
    "# var1 = 16. * p * (1-p)\n",
    "\n",
    "var2 = 16. * np.var(z, ddof = 1)\n",
    "LB = estimated_pi - scipy.stats.norm.ppf(0.95) * np.sqrt(var2 / n)\n",
    "RB = estimated_pi + scipy.stats.norm.ppf(0.95) * np.sqrt(var2 / n)\n",
    "print (\"The 90% fixed-sample confidence interval is \", LB, RB)"
   ]
  },
  {
   "cell_type": "markdown",
   "metadata": {},
   "source": [
    "## 2.\n",
    "### (a)"
   ]
  },
  {
   "cell_type": "markdown",
   "metadata": {
    "collapsed": true
   },
   "source": [
    "For a range of values of $n$ between 10 and 10,000, we perform 30 replications of the Buffon needle experience. For each value of $n$ we test, we plot the average of the 30 estimates of $\\pi$ and a $95\\%$ confidence interval for the expected value of $\\widehat{\\pi}_n$. "
   ]
  },
  {
   "cell_type": "code",
   "execution_count": 11,
   "metadata": {},
   "outputs": [
    {
     "name": "stdout",
     "output_type": "stream",
     "text": [
      "Populating the interactive namespace from numpy and matplotlib\n"
     ]
    }
   ],
   "source": [
    "%pylab inline"
   ]
  },
  {
   "cell_type": "code",
   "execution_count": 12,
   "metadata": {
    "collapsed": true
   },
   "outputs": [],
   "source": [
    "def buffon(N, length, dist, seed = -1):\n",
    "    # N = number of throws \n",
    "    # length = length of match\n",
    "    # dist = distance between lines\n",
    "    # seed = seed for random number generator\n",
    "    \n",
    "    # Visualize parallel vertical lines\n",
    "    \n",
    "    if seed == -1:\n",
    "        xcent = np.random.uniform(0, dist / 2.0, N) # random x-coordinate of center point\n",
    "        theta = np.random.uniform(0, math.pi / 2, N) # random angle\n",
    "    else:\n",
    "        np.random.seed(seed)\n",
    "        xcent = np.random.uniform(0, dist / 2.0, N) # random x-coordinate of center point\n",
    "        theta = np.random.uniform(0, math.pi / 2, N) # random angle\n",
    "\n",
    "    xtip_l  = xcent - (length / 2.0) * np.cos(theta) # generate left endpoint\n",
    "    pihatN = 2.0 * length * N / (dist * (sum(xtip_l < 0)))     \n",
    "    return pihatN"
   ]
  },
  {
   "cell_type": "code",
   "execution_count": 31,
   "metadata": {
    "collapsed": true
   },
   "outputs": [],
   "source": [
    "import numpy as np\n",
    "import scipy.stats\n",
    "import matplotlib.pyplot as plt\n",
    "\n",
    "r = 30\n",
    "avg_estimate = np.zeros(1000)\n",
    "var_estimate = np.zeros(1000)\n",
    "\n",
    "for j in range(1000):\n",
    "    n = 10 + 10 * j\n",
    "    estimate = np.zeros(r)\n",
    "    for i in range(r):\n",
    "        estimate[i] = buffon(n, 1, 1)\n",
    "    avg_estimate[j] = np.mean(estimate)\n",
    "    var_estimate[j] = np.var(estimate) * 30. / 29."
   ]
  },
  {
   "cell_type": "code",
   "execution_count": 32,
   "metadata": {
    "collapsed": true
   },
   "outputs": [],
   "source": [
    "n_range = range(10, 10010, 10)\n",
    "\n",
    "# plt.axhline(y = np.pi, color = 'red')\n",
    "# plt.plot(n_range, avg_estimate);"
   ]
  },
  {
   "cell_type": "code",
   "execution_count": 33,
   "metadata": {},
   "outputs": [
    {
     "data": {
      "text/plain": [
       "<Container object of 3 artists>"
      ]
     },
     "execution_count": 33,
     "metadata": {},
     "output_type": "execute_result"
    },
    {
     "data": {
      "image/png": "[encoded data removed]",
      "text/plain": [
       "<matplotlib.figure.Figure at 0xc8e88d0>"
      ]
     },
     "metadata": {},
     "output_type": "display_data"
    }
   ],
   "source": [
    "plt.errorbar(n_range, avg_estimate, color = 'red', yerr = scipy.stats.norm.ppf(0.975) * np.sqrt(var_estimate / r), ecolor = 'green')"
   ]
  },
  {
   "cell_type": "markdown",
   "metadata": {},
   "source": [
    "### (b)\n",
    "In the plot in part (a), we notice that $\\widehat{\\pi}_n$ tends to underestimate $\\pi$. According to Jensen's Inequality, $E(f(x))\\leq f(E(x))$ if $f(x)$ is convex. In this problem, we used $\\frac{N_{cross}}{n}$ to estimate $\\frac{2}{\\widehat{\\pi}}$ and took the inverse times two to get $\\widehat{\\pi}$. Thus, the $f(x)$ here is $\\frac{2}{x}$ so we can apply Jesen's Inequality:\n",
    "$$\n",
    "f(E(x)) = \\frac{2}{E(x)} = \\frac{2}{E(P_{cross})} = \\frac{2}{\\frac{N_{cross}}{n}} = \\frac{2n}{N_{cross}} = \\widehat{\\pi}_n\\leq E(f(x)) = E\\bigg(\\frac{2}{x}\\bigg) = E\\bigg(\\frac{2}{P_{cross}}\\bigg)=\\pi.\n",
    "$$"
   ]
  },
  {
   "cell_type": "markdown",
   "metadata": {},
   "source": [
    "## 3.\n",
    "### (a)"
   ]
  },
  {
   "cell_type": "markdown",
   "metadata": {},
   "source": [
    "In this problem, we use simulation to compute the expected number of acceptable wafers in a batch of $m = 500$ wafers. According to the output, the $95\\%$ confidence interval for $m$ that is accurate to one decimal place is as follows:"
   ]
  },
  {
   "cell_type": "code",
   "execution_count": 3,
   "metadata": {},
   "outputs": [
    {
     "name": "stdout",
     "output_type": "stream",
     "text": [
      "n = 48322.0\n",
      "470.010877034\n",
      "469.959303544 470.062450525\n"
     ]
    }
   ],
   "source": [
    "import numpy as np\n",
    "import scipy.stats\n",
    "\n",
    "a = 0.92\n",
    "b = 0.96\n",
    "ell = 0.05\n",
    "x = np.random.uniform(0.92, 0.96, 100)\n",
    "mean_x = np.mean(x)\n",
    "var_x = np.var(x, ddof=1)\n",
    "n = np.ceil((500. * np.sqrt(var_x) * scipy.stats.norm.ppf(0.975) / ell) ** 2)\n",
    "print(\"n =\",n)\n",
    "\n",
    "p = np.random.uniform(a, b, int(n))\n",
    "m = 500. * np.mean(p) \n",
    "print (m)\n",
    "sim_mean = np.mean(p)\n",
    "sim_var = np.var(p, ddof = 1)\n",
    "LB = 500. * sim_mean - 500. * np.sqrt(sim_var / n) * scipy.stats.norm.ppf(0.975)\n",
    "RB = 500. * sim_mean + 500. * np.sqrt(sim_var / n) * scipy.stats.norm.ppf(0.975)\n",
    "print (LB, RB)"
   ]
  },
  {
   "cell_type": "markdown",
   "metadata": {},
   "source": [
    "### (b)\n"
   ]
  },
  {
   "cell_type": "markdown",
   "metadata": {},
   "source": [
    "According to the output below, the $95\\%$ confidence interval for the probability is as follows:"
   ]
  },
  {
   "cell_type": "code",
   "execution_count": 5,
   "metadata": {},
   "outputs": [
    {
     "name": "stdout",
     "output_type": "stream",
     "text": [
      "n = 306.0\n",
      "0.236783732799 0.338379665894\n"
     ]
    }
   ],
   "source": [
    "import numpy as np\n",
    "import scipy.stats\n",
    "\n",
    "a = 0.92\n",
    "b = 0.96\n",
    "x = np.random.uniform(0.92, 0.96, 100)\n",
    "y = (x >= 0.95)\n",
    "mean_y = np.mean(y)\n",
    "var_y = np.var(y, ddof = 1)\n",
    "ell = 0.05\n",
    "n = np.ceil((np.sqrt(var_y) * scipy.stats.norm.ppf(0.975) / ell) ** 2)\n",
    "print(\"n =\", n)\n",
    "\n",
    "p = np.random.uniform(a, b, int(n))\n",
    "sample = (p >= 0.95)\n",
    "sim_mean = np.mean(sample)\n",
    "#print(sim_mean)\n",
    "sim_var = np.var(sample, ddof = 1)\n",
    "#sim_var2 = sim_mean*(1-sim_mean)\n",
    "#print(sim_var, sim_var2)\n",
    "LB = sim_mean - scipy.stats.norm.ppf(0.975) * np.sqrt(sim_var / n)\n",
    "RB = sim_mean + scipy.stats.norm.ppf(0.975) * np.sqrt(sim_var / n)\n",
    "print (LB, RB)"
   ]
  },
  {
   "cell_type": "markdown",
   "metadata": {},
   "source": [
    "## 4.\n",
    "### (a)\n",
    "The random variable $X$ follows a binomial distribution with parameters $n = 104$ and $p = \\frac{19}{20}$.  \n"
   ]
  },
  {
   "cell_type": "markdown",
   "metadata": {},
   "source": [
    "### (b)"
   ]
  },
  {
   "cell_type": "markdown",
   "metadata": {},
   "source": [
    "Given that the hotel has only 100 rooms, the probability that there will not be enough rooms for the booked guests who show up by 10PM is \n",
    "\n",
    "\\begin{align*}\n",
    "P(X > 100) &= P(X = 101) + P(X = 102) + P(X = 103) + P(X = 104) \\\\\n",
    "&= \\dbinom{104}{101} (0.95)^{101}(0.05)^{3} + \\cdots + \\dbinom{104}{104}(0.95)^{104}(0.05)^{0} \\\\\n",
    "&\\approx 0.231.\n",
    "\\end{align*}\n",
    "\n",
    "The code to compute this probability is shown below. "
   ]
  },
  {
   "cell_type": "code",
   "execution_count": 25,
   "metadata": {},
   "outputs": [
    {
     "name": "stdout",
     "output_type": "stream",
     "text": [
      "0.230795143163\n"
     ]
    }
   ],
   "source": [
    "from scipy.special import comb\n",
    "\n",
    "n = 104\n",
    "p = 19./20.\n",
    "sum = 0.\n",
    "for i in range(101, 105):\n",
    "    sum = sum + comb(n, i) * (p ** i) * ((1 - p) ** (n - i))\n",
    "print (sum)"
   ]
  },
  {
   "cell_type": "markdown",
   "metadata": {},
   "source": [
    "### (c)\n",
    "We know that the expected number of guests is $E(X) = np = \\frac{19}{20}n.$ \n",
    "\n",
    "Case I:\n",
    "\n",
    "If $\\frac{19}{20}n \\leq 100$, then $n \\leq \\frac{2000}{19}$ and the profit is $P = 50 (0.95) n \\leq \\frac{50 \\cdot 2000}{19}.$ We find that $50(0.95)(105) \\approx 4987.5$ and so $n = 105.$\n",
    "\n",
    "Case II:\n",
    "\n",
    "Similarly, if $\\frac{19}{20}n > 100$, then $n > \\frac{2000}{19}$. We find that for $n = 106$, the profit is about $4939.3$. \n",
    "\n",
    "Since the profit in case II is lower than that of case I, the number of rooms that should be sold to maximize the expected profit is $n = 105$. "
   ]
  }
 ],
 "metadata": {
  "kernelspec": {
   "display_name": "Python 3",
   "language": "python",
   "name": "python3"
  },
  "language_info": {
   "codemirror_mode": {
    "name": "ipython",
    "version": 3
   },
   "file_extension": ".py",
   "mimetype": "text/x-python",
   "name": "python",
   "nbconvert_exporter": "python",
   "pygments_lexer": "ipython3",
   "version": "3.6.1"
  }
 },
 "nbformat": 4,
 "nbformat_minor": 2
}
